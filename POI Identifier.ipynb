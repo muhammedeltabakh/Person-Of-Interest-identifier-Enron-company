{
 "cells": [
  {
   "cell_type": "markdown",
   "metadata": {},
   "source": [
    "\n",
    "In 2000, Enron was one of the largest companies in the United States. By 2002, it had collapsed into bankruptcy due to widespread corporate fraud. In the resulting Federal investigation, there was a significant amount of typically confidential information entered into public record, including tens of thousands of emails and detailed financial data for top executives.\n",
    "\n",
    "In this project I will build a person of interest identifier based on financial and email data made public as a result of the Enron scandal. I use email and financial data for 146 executives at Enron to identify persons of interest in the fraud case. A person of interest (POI) is someone who was indicted for fraud, settled with the government, or testified in exchange for immunity. This report documents the machine learning techniques used in building a POI identifier.\n",
    "\n",
    "\n",
    "There are four major steps in my project:\n",
    "\n",
    "Enron dataset\n",
    "\n",
    "Feature processing\n",
    "\n",
    "Algorithm\n",
    "\n",
    "Validation"
   ]
  },
  {
   "cell_type": "code",
   "execution_count": 2,
   "metadata": {
    "collapsed": false
   },
   "outputs": [],
   "source": [
    "import os \n",
    "os.chdir('/Users/muhammedeltabakh/Desktop/my_work/ud120-projects/final_project/')"
   ]
  },
  {
   "cell_type": "code",
   "execution_count": 3,
   "metadata": {
    "collapsed": false
   },
   "outputs": [
    {
     "name": "stderr",
     "output_type": "stream",
     "text": [
      "/Users/muhammedeltabakh/anaconda/lib/python2.7/site-packages/matplotlib/font_manager.py:273: UserWarning: Matplotlib is building the font cache using fc-list. This may take a moment.\n",
      "  warnings.warn('Matplotlib is building the font cache using fc-list. This may take a moment.')\n"
     ]
    }
   ],
   "source": [
    "%matplotlib inline\n",
    "from IPython.display import Image\n",
    "import matplotlib.pyplot as plt\n",
    "from time import time\n",
    "import sys\n",
    "import pickle \n",
    "from sklearn import preprocessing \n",
    "from sklearn.naive_bayes import GaussianNB\n",
    "from sklearn.metrics import accuracy_score\n",
    "from sklearn.grid_search import GridSearchCV\n",
    "from sklearn.metrics import precision_score\n",
    "from sklearn.metrics import recall_score\n",
    "\n",
    "sys.path.append(\"../tools/\")\n",
    "\n",
    "\n",
    "\n",
    "feature_list = [\"poi\"]\n",
    "\n",
    "from feature_format import featureFormat\n",
    "from feature_format import targetFeatureSplit"
   ]
  },
  {
   "cell_type": "code",
   "execution_count": 4,
   "metadata": {
    "collapsed": true
   },
   "outputs": [],
   "source": [
    "data_dict = pickle.load(open(\"final_project_dataset.pkl\", \"r\"))"
   ]
  },
  {
   "cell_type": "code",
   "execution_count": 5,
   "metadata": {
    "collapsed": false
   },
   "outputs": [
    {
     "name": "stdout",
     "output_type": "stream",
     "text": [
      "No. of executives in Enron = 146\n"
     ]
    }
   ],
   "source": [
    "print 'No. of executives in Enron =', len(data_dict.keys())"
   ]
  },
  {
   "cell_type": "code",
   "execution_count": 6,
   "metadata": {
    "collapsed": false
   },
   "outputs": [
    {
     "name": "stdout",
     "output_type": "stream",
     "text": [
      "['METTS MARK', 'BAXTER JOHN C', 'ELLIOTT STEVEN', 'CORDES WILLIAM R', 'HANNON KEVIN P', 'MORDAUNT KRISTINA M', 'MEYER ROCKFORD G', 'MCMAHON JEFFREY', 'HORTON STANLEY C', 'PIPER GREGORY F', 'HUMPHREY GENE E', 'UMANOFF ADAM S', 'BLACHMAN JEREMY M', 'SUNDE MARTIN', 'GIBBS DANA R', 'LOWRY CHARLES P', 'COLWELL WESLEY', 'MULLER MARK S', 'JACKSON CHARLENE R', 'WESTFAHL RICHARD K', 'WALTERS GARETH W', 'WALLS JR ROBERT H', 'KITCHEN LOUISE', 'CHAN RONNIE', 'BELFER ROBERT', 'SHANKMAN JEFFREY A', 'WODRASKA JOHN', 'BERGSIEKER RICHARD P', 'URQUHART JOHN A', 'BIBI PHILIPPE A', 'RIEKER PAULA H', 'WHALEY DAVID A', 'BECK SALLY W', 'HAUG DAVID L', 'ECHOLS JOHN B', 'MENDELSOHN JOHN', 'HICKERSON GARY J', 'CLINE KENNETH W', 'LEWIS RICHARD', 'HAYES ROBERT E', 'MCCARTY DANNY J', 'KOPPER MICHAEL J', 'LEFF DANIEL P', 'LAVORATO JOHN J', 'BERBERIAN DAVID', 'DETMERING TIMOTHY J', 'WAKEHAM JOHN', 'POWERS WILLIAM', 'GOLD JOSEPH', 'BANNANTINE JAMES M', 'DUNCAN JOHN H', 'SHAPIRO RICHARD S', 'SHERRIFF JOHN R', 'SHELBY REX', 'LEMAISTRE CHARLES', 'DEFFNER JOSEPH M', 'KISHKILL JOSEPH G', 'WHALLEY LAWRENCE G', 'MCCONNELL MICHAEL S', 'PIRO JIM', 'DELAINEY DAVID W', 'SULLIVAN-SHAKLOVITZ COLLEEN', 'WROBEL BRUCE', 'LINDHOLM TOD A', 'MEYER JEROME J', 'LAY KENNETH L', 'BUTTS ROBERT H', 'OLSON CINDY K', 'MCDONALD REBECCA', 'CUMBERLAND MICHAEL S', 'GAHN ROBERT S', 'MCCLELLAN GEORGE', 'HERMANN ROBERT J', 'SCRIMSHAW MATTHEW', 'GATHMANN WILLIAM D', 'HAEDICKE MARK E', 'BOWEN JR RAYMOND M', 'GILLIS JOHN', 'FITZGERALD JAY L', 'MORAN MICHAEL P', 'REDMOND BRIAN L', 'BAZELIDES PHILIP J', 'BELDEN TIMOTHY N', 'DURAN WILLIAM D', 'THORN TERENCE H', 'FASTOW ANDREW S', 'FOY JOE', 'CALGER CHRISTOPHER F', 'RICE KENNETH D', 'KAMINSKI WINCENTY J', 'LOCKHART EUGENE E', 'COX DAVID', 'OVERDYKE JR JERE C', 'PEREIRA PAULO V. FERRAZ', 'STABLER FRANK', 'SKILLING JEFFREY K', 'BLAKE JR. NORMAN P', 'SHERRICK JEFFREY B', 'PRENTICE JAMES', 'GRAY RODNEY', 'PICKERING MARK R', 'THE TRAVEL AGENCY IN THE PARK', 'NOLES JAMES L', 'KEAN STEVEN J', 'TOTAL', 'FOWLER PEGGY', 'WASAFF GEORGE', 'WHITE JR THOMAS E', 'CHRISTODOULOU DIOMEDES', 'ALLEN PHILLIP K', 'SHARP VICTORIA T', 'JAEDICKE ROBERT', 'WINOKUR JR. HERBERT S', 'BROWN MICHAEL', 'BADUM JAMES P', 'HUGHES JAMES A', 'REYNOLDS LAWRENCE', 'DIMICHELE RICHARD G', 'BHATNAGAR SANJAY', 'CARTER REBECCA C', 'BUCHANAN HAROLD G', 'YEAP SOON', 'MURRAY JULIA H', 'GARLAND C KEVIN', 'DODSON KEITH', 'YEAGER F SCOTT', 'HIRKO JOSEPH', 'DIETRICH JANET R', 'DERRICK JR. JAMES V', 'FREVERT MARK A', 'PAI LOU L', 'BAY FRANKLIN R', 'HAYSLETT RODERICK J', 'FUGH JOHN L', 'FALLON JAMES B', 'KOENIG MARK E', 'SAVAGE FRANK', 'IZZO LAWRENCE L', 'TILNEY ELIZABETH A', 'MARTIN AMANDA K', 'BUY RICHARD B', 'GRAMM WENDY L', 'CAUSEY RICHARD A', 'TAYLOR MITCHELL S', 'DONAHUE JR JEFFREY M', 'GLISAN JR BEN F']\n"
     ]
    }
   ],
   "source": [
    "print data_dict.keys()"
   ]
  },
  {
   "cell_type": "code",
   "execution_count": 7,
   "metadata": {
    "collapsed": false
   },
   "outputs": [
    {
     "name": "stdout",
     "output_type": "stream",
     "text": [
      "{'salary': 257486, 'to_messages': 2647, 'deferral_payments': 'NaN', 'total_payments': 1545059, 'exercised_stock_options': 'NaN', 'bonus': 700000, 'restricted_stock': 698920, 'shared_receipt_with_poi': 2565, 'restricted_stock_deferred': 'NaN', 'total_stock_value': 698920, 'expenses': 'NaN', 'loan_advances': 'NaN', 'from_messages': 38, 'other': 111122, 'from_this_person_to_poi': 13, 'poi': False, 'director_fees': 'NaN', 'deferred_income': 'NaN', 'long_term_incentive': 476451, 'email_address': 'marty.sunde@enron.com', 'from_poi_to_this_person': 37}\n"
     ]
    }
   ],
   "source": [
    "print data_dict['SUNDE MARTIN']"
   ]
  },
  {
   "cell_type": "markdown",
   "metadata": {},
   "source": [
    "# Detecting outliers\n",
    "plotting salaries against bonuses"
   ]
  },
  {
   "cell_type": "code",
   "execution_count": 8,
   "metadata": {
    "collapsed": false
   },
   "outputs": [
    {
     "data": {
      "image/png": "[encoded data removed]",
      "text/plain": [
       "<matplotlib.figure.Figure at 0x10b84a510>"
      ]
     },
     "metadata": {},
     "output_type": "display_data"
    }
   ],
   "source": [
    "features = ['salary', 'bonus']\n",
    "\n",
    "data = featureFormat(data_dict, features)\n",
    "#print data\n",
    "\n",
    "for point in data:\n",
    "    salary = point[0]\n",
    "    bonus = point[1]\n",
    "    plt.scatter(salary, bonus)\n",
    "    \n",
    "plt.xlabel(\"salary\")\n",
    "plt.ylabel(\"bonus\")\n",
    "plt.show()"
   ]
  },
  {
   "cell_type": "markdown",
   "metadata": {},
   "source": [
    "# Removing outliers"
   ]
  },
  {
   "cell_type": "code",
   "execution_count": 9,
   "metadata": {
    "collapsed": false
   },
   "outputs": [
    {
     "name": "stdout",
     "output_type": "stream",
     "text": [
      "{'METTS MARK': {'salary': 365788, 'to_messages': 807, 'deferral_payments': 'NaN', 'total_payments': 1061827, 'exercised_stock_options': 'NaN', 'bonus': 600000, 'restricted_stock': 585062, 'shared_receipt_with_poi': 702, 'restricted_stock_deferred': 'NaN', 'total_stock_value': 585062, 'expenses': 94299, 'loan_advances': 'NaN', 'from_messages': 29, 'other': 1740, 'from_this_person_to_poi': 1, 'poi': False, 'director_fees': 'NaN', 'deferred_income': 'NaN', 'long_term_incentive': 'NaN', 'email_address': 'mark.metts@enron.com', 'from_poi_to_this_person': 38}, 'BAXTER JOHN C': {'salary': 267102, 'to_messages': 'NaN', 'deferral_payments': 1295738, 'total_payments': 5634343, 'exercised_stock_options': 6680544, 'bonus': 1200000, 'restricted_stock': 3942714, 'shared_receipt_with_poi': 'NaN', 'restricted_stock_deferred': 'NaN', 'total_stock_value': 10623258, 'expenses': 11200, 'loan_advances': 'NaN', 'from_messages': 'NaN', 'other': 2660303, 'from_this_person_to_poi': 'NaN', 'poi': False, 'director_fees': 'NaN', 'deferred_income': -1386055, 'long_term_incentive': 1586055, 'email_address': 'NaN', 'from_poi_to_this_person': 'NaN'}, 'ELLIOTT STEVEN': {'salary': 170941, 'to_messages': 'NaN', 'deferral_payments': 'NaN', 'total_payments': 211725, 'exercised_stock_options': 4890344, 'bonus': 350000, 'restricted_stock': 1788391, 'shared_receipt_with_poi': 'NaN', 'restricted_stock_deferred': 'NaN', 'total_stock_value': 6678735, 'expenses': 78552, 'loan_advances': 'NaN', 'from_messages': 'NaN', 'other': 12961, 'from_this_person_to_poi': 'NaN', 'poi': False, 'director_fees': 'NaN', 'deferred_income': -400729, 'long_term_incentive': 'NaN', 'email_address': 'steven.elliott@enron.com', 'from_poi_to_this_person': 'NaN'}, 'CORDES WILLIAM R': {'salary': 'NaN', 'to_messages': 764, 'deferral_payments': 'NaN', 'total_payments': 'NaN', 'exercised_stock_options': 651850, 'bonus': 'NaN', 'restricted_stock': 386335, 'shared_receipt_with_poi': 58, 'restricted_stock_deferred': 'NaN', 'total_stock_value': 1038185, 'expenses': 'NaN', 'loan_advances': 'NaN', 'from_messages': 12, 'other': 'NaN', 'from_this_person_to_poi': 0, 'poi': False, 'director_fees': 'NaN', 'deferred_income': 'NaN', 'long_term_incentive': 'NaN', 'email_address': 'bill.cordes@enron.com', 'from_poi_to_this_person': 10}, 'HANNON KEVIN P': {'salary': 243293, 'to_messages': 1045, 'deferral_payments': 'NaN', 'total_payments': 288682, 'exercised_stock_options': 5538001, 'bonus': 1500000, 'restricted_stock': 853064, 'shared_receipt_with_poi': 1035, 'restricted_stock_deferred': 'NaN', 'total_stock_value': 6391065, 'expenses': 34039, 'loan_advances': 'NaN', 'from_messages': 32, 'other': 11350, 'from_this_person_to_poi': 21, 'poi': True, 'director_fees': 'NaN', 'deferred_income': -3117011, 'long_term_incentive': 1617011, 'email_address': 'kevin.hannon@enron.com', 'from_poi_to_this_person': 32}, 'MORDAUNT KRISTINA M': {'salary': 267093, 'to_messages': 'NaN', 'deferral_payments': 'NaN', 'total_payments': 628522, 'exercised_stock_options': 'NaN', 'bonus': 325000, 'restricted_stock': 208510, 'shared_receipt_with_poi': 'NaN', 'restricted_stock_deferred': 'NaN', 'total_stock_value': 208510, 'expenses': 35018, 'loan_advances': 'NaN', 'from_messages': 'NaN', 'other': 1411, 'from_this_person_to_poi': 'NaN', 'poi': False, 'director_fees': 'NaN', 'deferred_income': 'NaN', 'long_term_incentive': 'NaN', 'email_address': 'kristina.mordaunt@enron.com', 'from_poi_to_this_person': 'NaN'}, 'MEYER ROCKFORD G': {'salary': 'NaN', 'to_messages': 232, 'deferral_payments': 1848227, 'total_payments': 1848227, 'exercised_stock_options': 493489, 'bonus': 'NaN', 'restricted_stock': 462384, 'shared_receipt_with_poi': 22, 'restricted_stock_deferred': 'NaN', 'total_stock_value': 955873, 'expenses': 'NaN', 'loan_advances': 'NaN', 'from_messages': 28, 'other': 'NaN', 'from_this_person_to_poi': 0, 'poi': False, 'director_fees': 'NaN', 'deferred_income': 'NaN', 'long_term_incentive': 'NaN', 'email_address': 'rockford.meyer@enron.com', 'from_poi_to_this_person': 0}, 'MCMAHON JEFFREY': {'salary': 370448, 'to_messages': 2355, 'deferral_payments': 'NaN', 'total_payments': 4099771, 'exercised_stock_options': 1104054, 'bonus': 2600000, 'restricted_stock': 558801, 'shared_receipt_with_poi': 2228, 'restricted_stock_deferred': 'NaN', 'total_stock_value': 1662855, 'expenses': 137108, 'loan_advances': 'NaN', 'from_messages': 48, 'other': 297353, 'from_this_person_to_poi': 26, 'poi': False, 'director_fees': 'NaN', 'deferred_income': 'NaN', 'long_term_incentive': 694862, 'email_address': 'jeffrey.mcmahon@enron.com', 'from_poi_to_this_person': 58}, 'HORTON STANLEY C': {'salary': 'NaN', 'to_messages': 2350, 'deferral_payments': 3131860, 'total_payments': 3131860, 'exercised_stock_options': 5210569, 'bonus': 'NaN', 'restricted_stock': 2046079, 'shared_receipt_with_poi': 1074, 'restricted_stock_deferred': 'NaN', 'total_stock_value': 7256648, 'expenses': 'NaN', 'loan_advances': 'NaN', 'from_messages': 1073, 'other': 'NaN', 'from_this_person_to_poi': 15, 'poi': False, 'director_fees': 'NaN', 'deferred_income': 'NaN', 'long_term_incentive': 'NaN', 'email_address': 'stanley.horton@enron.com', 'from_poi_to_this_person': 44}, 'PIPER GREGORY F': {'salary': 197091, 'to_messages': 1238, 'deferral_payments': 1130036, 'total_payments': 1737629, 'exercised_stock_options': 880290, 'bonus': 400000, 'restricted_stock': 409554, 'shared_receipt_with_poi': 742, 'restricted_stock_deferred': -409554, 'total_stock_value': 880290, 'expenses': 43057, 'loan_advances': 'NaN', 'from_messages': 222, 'other': 778, 'from_this_person_to_poi': 48, 'poi': False, 'director_fees': 'NaN', 'deferred_income': -33333, 'long_term_incentive': 'NaN', 'email_address': 'greg.piper@enron.com', 'from_poi_to_this_person': 61}, 'HUMPHREY GENE E': {'salary': 130724, 'to_messages': 128, 'deferral_payments': 2964506, 'total_payments': 3100224, 'exercised_stock_options': 2282768, 'bonus': 'NaN', 'restricted_stock': 'NaN', 'shared_receipt_with_poi': 119, 'restricted_stock_deferred': 'NaN', 'total_stock_value': 2282768, 'expenses': 4994, 'loan_advances': 'NaN', 'from_messages': 17, 'other': 'NaN', 'from_this_person_to_poi': 17, 'poi': False, 'director_fees': 'NaN', 'deferred_income': 'NaN', 'long_term_incentive': 'NaN', 'email_address': 'gene.humphrey@enron.com', 'from_poi_to_this_person': 10}, 'UMANOFF ADAM S': {'salary': 288589, 'to_messages': 111, 'deferral_payments': 'NaN', 'total_payments': 1130461, 'exercised_stock_options': 'NaN', 'bonus': 788750, 'restricted_stock': 'NaN', 'shared_receipt_with_poi': 41, 'restricted_stock_deferred': 'NaN', 'total_stock_value': 'NaN', 'expenses': 53122, 'loan_advances': 'NaN', 'from_messages': 18, 'other': 'NaN', 'from_this_person_to_poi': 0, 'poi': False, 'director_fees': 'NaN', 'deferred_income': 'NaN', 'long_term_incentive': 'NaN', 'email_address': 'adam.umanoff@enron.com', 'from_poi_to_this_person': 12}, 'BLACHMAN JEREMY M': {'salary': 248546, 'to_messages': 2475, 'deferral_payments': 'NaN', 'total_payments': 2014835, 'exercised_stock_options': 765313, 'bonus': 850000, 'restricted_stock': 189041, 'shared_receipt_with_poi': 2326, 'restricted_stock_deferred': 'NaN', 'total_stock_value': 954354, 'expenses': 84208, 'loan_advances': 'NaN', 'from_messages': 14, 'other': 272, 'from_this_person_to_poi': 2, 'poi': False, 'director_fees': 'NaN', 'deferred_income': 'NaN', 'long_term_incentive': 831809, 'email_address': 'jeremy.blachman@enron.com', 'from_poi_to_this_person': 25}, 'SUNDE MARTIN': {'salary': 257486, 'to_messages': 2647, 'deferral_payments': 'NaN', 'total_payments': 1545059, 'exercised_stock_options': 'NaN', 'bonus': 700000, 'restricted_stock': 698920, 'shared_receipt_with_poi': 2565, 'restricted_stock_deferred': 'NaN', 'total_stock_value': 698920, 'expenses': 'NaN', 'loan_advances': 'NaN', 'from_messages': 38, 'other': 111122, 'from_this_person_to_poi': 13, 'poi': False, 'director_fees': 'NaN', 'deferred_income': 'NaN', 'long_term_incentive': 476451, 'email_address': 'marty.sunde@enron.com', 'from_poi_to_this_person': 37}, 'GIBBS DANA R': {'salary': 'NaN', 'to_messages': 169, 'deferral_payments': 504610, 'total_payments': 966522, 'exercised_stock_options': 2218275, 'bonus': 'NaN', 'restricted_stock': 'NaN', 'shared_receipt_with_poi': 23, 'restricted_stock_deferred': 'NaN', 'total_stock_value': 2218275, 'expenses': 'NaN', 'loan_advances': 'NaN', 'from_messages': 12, 'other': 'NaN', 'from_this_person_to_poi': 0, 'poi': False, 'director_fees': 'NaN', 'deferred_income': 'NaN', 'long_term_incentive': 461912, 'email_address': 'dana.gibbs@enron.com', 'from_poi_to_this_person': 0}, 'LOWRY CHARLES P': {'salary': 'NaN', 'to_messages': 'NaN', 'deferral_payments': 'NaN', 'total_payments': 'NaN', 'exercised_stock_options': 372205, 'bonus': 'NaN', 'restricted_stock': 153686, 'shared_receipt_with_poi': 'NaN', 'restricted_stock_deferred': -153686, 'total_stock_value': 372205, 'expenses': 'NaN', 'loan_advances': 'NaN', 'from_messages': 'NaN', 'other': 'NaN', 'from_this_person_to_poi': 'NaN', 'poi': False, 'director_fees': 'NaN', 'deferred_income': 'NaN', 'long_term_incentive': 'NaN', 'email_address': 'NaN', 'from_poi_to_this_person': 'NaN'}, 'COLWELL WESLEY': {'salary': 288542, 'to_messages': 1758, 'deferral_payments': 27610, 'total_payments': 1490344, 'exercised_stock_options': 'NaN', 'bonus': 1200000, 'restricted_stock': 698242, 'shared_receipt_with_poi': 1132, 'restricted_stock_deferred': 'NaN', 'total_stock_value': 698242, 'expenses': 16514, 'loan_advances': 'NaN', 'from_messages': 40, 'other': 101740, 'from_this_person_to_poi': 11, 'poi': True, 'director_fees': 'NaN', 'deferred_income': -144062, 'long_term_incentive': 'NaN', 'email_address': 'wes.colwell@enron.com', 'from_poi_to_this_person': 240}, 'MULLER MARK S': {'salary': 251654, 'to_messages': 136, 'deferral_payments': 842924, 'total_payments': 3202070, 'exercised_stock_options': 1056320, 'bonus': 1100000, 'restricted_stock': 360528, 'shared_receipt_with_poi': 114, 'restricted_stock_deferred': 'NaN', 'total_stock_value': 1416848, 'expenses': 'NaN', 'loan_advances': 'NaN', 'from_messages': 16, 'other': 947, 'from_this_person_to_poi': 0, 'poi': False, 'director_fees': 'NaN', 'deferred_income': -719000, 'long_term_incentive': 1725545, 'email_address': 's..muller@enron.com', 'from_poi_to_this_person': 12}, 'JACKSON CHARLENE R': {'salary': 288558, 'to_messages': 258, 'deferral_payments': 'NaN', 'total_payments': 551174, 'exercised_stock_options': 185063, 'bonus': 250000, 'restricted_stock': 540672, 'shared_receipt_with_poi': 117, 'restricted_stock_deferred': 'NaN', 'total_stock_value': 725735, 'expenses': 10181, 'loan_advances': 'NaN', 'from_messages': 56, 'other': 2435, 'from_this_person_to_poi': 19, 'poi': False, 'director_fees': 'NaN', 'deferred_income': 'NaN', 'long_term_incentive': 'NaN', 'email_address': 'charlene.jackson@enron.com', 'from_poi_to_this_person': 25}, 'WESTFAHL RICHARD K': {'salary': 63744, 'to_messages': 'NaN', 'deferral_payments': 'NaN', 'total_payments': 762135, 'exercised_stock_options': 'NaN', 'bonus': 'NaN', 'restricted_stock': 384930, 'shared_receipt_with_poi': 'NaN', 'restricted_stock_deferred': 'NaN', 'total_stock_value': 384930, 'expenses': 51870, 'loan_advances': 'NaN', 'from_messages': 'NaN', 'other': 401130, 'from_this_person_to_poi': 'NaN', 'poi': False, 'director_fees': 'NaN', 'deferred_income': -10800, 'long_term_incentive': 256191, 'email_address': 'dick.westfahl@enron.com', 'from_poi_to_this_person': 'NaN'}, 'WALTERS GARETH W': {'salary': 'NaN', 'to_messages': 'NaN', 'deferral_payments': 53625, 'total_payments': 87410, 'exercised_stock_options': 1030329, 'bonus': 'NaN', 'restricted_stock': 'NaN', 'shared_receipt_with_poi': 'NaN', 'restricted_stock_deferred': 'NaN', 'total_stock_value': 1030329, 'expenses': 33785, 'loan_advances': 'NaN', 'from_messages': 'NaN', 'other': 'NaN', 'from_this_person_to_poi': 'NaN', 'poi': False, 'director_fees': 'NaN', 'deferred_income': 'NaN', 'long_term_incentive': 'NaN', 'email_address': 'NaN', 'from_poi_to_this_person': 'NaN'}, 'WALLS JR ROBERT H': {'salary': 357091, 'to_messages': 671, 'deferral_payments': 'NaN', 'total_payments': 1798780, 'exercised_stock_options': 4346544, 'bonus': 850000, 'restricted_stock': 1552453, 'shared_receipt_with_poi': 215, 'restricted_stock_deferred': 'NaN', 'total_stock_value': 5898997, 'expenses': 50936, 'loan_advances': 'NaN', 'from_messages': 146, 'other': 2, 'from_this_person_to_poi': 0, 'poi': False, 'director_fees': 'NaN', 'deferred_income': 'NaN', 'long_term_incentive': 540751, 'email_address': 'rob.walls@enron.com', 'from_poi_to_this_person': 17}, 'KITCHEN LOUISE': {'salary': 271442, 'to_messages': 8305, 'deferral_payments': 'NaN', 'total_payments': 3471141, 'exercised_stock_options': 81042, 'bonus': 3100000, 'restricted_stock': 466101, 'shared_receipt_with_poi': 3669, 'restricted_stock_deferred': 'NaN', 'total_stock_value': 547143, 'expenses': 5774, 'loan_advances': 'NaN', 'from_messages': 1728, 'other': 93925, 'from_this_person_to_poi': 194, 'poi': False, 'director_fees': 'NaN', 'deferred_income': 'NaN', 'long_term_incentive': 'NaN', 'email_address': 'louise.kitchen@enron.com', 'from_poi_to_this_person': 251}, 'CHAN RONNIE': {'salary': 'NaN', 'to_messages': 'NaN', 'deferral_payments': 'NaN', 'total_payments': 'NaN', 'exercised_stock_options': 'NaN', 'bonus': 'NaN', 'restricted_stock': 32460, 'shared_receipt_with_poi': 'NaN', 'restricted_stock_deferred': -32460, 'total_stock_value': 'NaN', 'expenses': 'NaN', 'loan_advances': 'NaN', 'from_messages': 'NaN', 'other': 'NaN', 'from_this_person_to_poi': 'NaN', 'poi': False, 'director_fees': 98784, 'deferred_income': -98784, 'long_term_incentive': 'NaN', 'email_address': 'NaN', 'from_poi_to_this_person': 'NaN'}, 'BELFER ROBERT': {'salary': 'NaN', 'to_messages': 'NaN', 'deferral_payments': -102500, 'total_payments': 102500, 'exercised_stock_options': 3285, 'bonus': 'NaN', 'restricted_stock': 'NaN', 'shared_receipt_with_poi': 'NaN', 'restricted_stock_deferred': 44093, 'total_stock_value': -44093, 'expenses': 'NaN', 'loan_advances': 'NaN', 'from_messages': 'NaN', 'other': 'NaN', 'from_this_person_to_poi': 'NaN', 'poi': False, 'director_fees': 3285, 'deferred_income': 'NaN', 'long_term_incentive': 'NaN', 'email_address': 'NaN', 'from_poi_to_this_person': 'NaN'}, 'SHANKMAN JEFFREY A': {'salary': 304110, 'to_messages': 3221, 'deferral_payments': 'NaN', 'total_payments': 3038702, 'exercised_stock_options': 1441898, 'bonus': 2000000, 'restricted_stock': 630137, 'shared_receipt_with_poi': 1730, 'restricted_stock_deferred': 'NaN', 'total_stock_value': 2072035, 'expenses': 178979, 'loan_advances': 'NaN', 'from_messages': 2681, 'other': 1191, 'from_this_person_to_poi': 83, 'poi': False, 'director_fees': 'NaN', 'deferred_income': 'NaN', 'long_term_incentive': 554422, 'email_address': 'jeffrey.shankman@enron.com', 'from_poi_to_this_person': 94}, 'WODRASKA JOHN': {'salary': 'NaN', 'to_messages': 'NaN', 'deferral_payments': 'NaN', 'total_payments': 189583, 'exercised_stock_options': 'NaN', 'bonus': 'NaN', 'restricted_stock': 'NaN', 'shared_receipt_with_poi': 'NaN', 'restricted_stock_deferred': 'NaN', 'total_stock_value': 'NaN', 'expenses': 'NaN', 'loan_advances': 'NaN', 'from_messages': 'NaN', 'other': 189583, 'from_this_person_to_poi': 'NaN', 'poi': False, 'director_fees': 'NaN', 'deferred_income': 'NaN', 'long_term_incentive': 'NaN', 'email_address': 'john.wodraska@enron.com', 'from_poi_to_this_person': 'NaN'}, 'BERGSIEKER RICHARD P': {'salary': 187922, 'to_messages': 383, 'deferral_payments': 'NaN', 'total_payments': 618850, 'exercised_stock_options': 'NaN', 'bonus': 250000, 'restricted_stock': 659249, 'shared_receipt_with_poi': 233, 'restricted_stock_deferred': 'NaN', 'total_stock_value': 659249, 'expenses': 59175, 'loan_advances': 'NaN', 'from_messages': 59, 'other': 427316, 'from_this_person_to_poi': 0, 'poi': False, 'director_fees': 'NaN', 'deferred_income': -485813, 'long_term_incentive': 180250, 'email_address': 'rick.bergsieker@enron.com', 'from_poi_to_this_person': 4}, 'URQUHART JOHN A': {'salary': 'NaN', 'to_messages': 'NaN', 'deferral_payments': 'NaN', 'total_payments': 228656, 'exercised_stock_options': 'NaN', 'bonus': 'NaN', 'restricted_stock': 'NaN', 'shared_receipt_with_poi': 'NaN', 'restricted_stock_deferred': 'NaN', 'total_stock_value': 'NaN', 'expenses': 228656, 'loan_advances': 'NaN', 'from_messages': 'NaN', 'other': 'NaN', 'from_this_person_to_poi': 'NaN', 'poi': False, 'director_fees': 36666, 'deferred_income': -36666, 'long_term_incentive': 'NaN', 'email_address': 'NaN', 'from_poi_to_this_person': 'NaN'}, 'BIBI PHILIPPE A': {'salary': 213625, 'to_messages': 1607, 'deferral_payments': 'NaN', 'total_payments': 2047593, 'exercised_stock_options': 1465734, 'bonus': 1000000, 'restricted_stock': 378082, 'shared_receipt_with_poi': 1336, 'restricted_stock_deferred': 'NaN', 'total_stock_value': 1843816, 'expenses': 38559, 'loan_advances': 'NaN', 'from_messages': 40, 'other': 425688, 'from_this_person_to_poi': 8, 'poi': False, 'director_fees': 'NaN', 'deferred_income': 'NaN', 'long_term_incentive': 369721, 'email_address': 'philippe.bibi@enron.com', 'from_poi_to_this_person': 23}, 'RIEKER PAULA H': {'salary': 249201, 'to_messages': 1328, 'deferral_payments': 214678, 'total_payments': 1099100, 'exercised_stock_options': 1635238, 'bonus': 700000, 'restricted_stock': 283649, 'shared_receipt_with_poi': 1258, 'restricted_stock_deferred': 'NaN', 'total_stock_value': 1918887, 'expenses': 33271, 'loan_advances': 'NaN', 'from_messages': 82, 'other': 1950, 'from_this_person_to_poi': 48, 'poi': True, 'director_fees': 'NaN', 'deferred_income': -100000, 'long_term_incentive': 'NaN', 'email_address': 'paula.rieker@enron.com', 'from_poi_to_this_person': 35}, 'WHALEY DAVID A': {'salary': 'NaN', 'to_messages': 'NaN', 'deferral_payments': 'NaN', 'total_payments': 'NaN', 'exercised_stock_options': 98718, 'bonus': 'NaN', 'restricted_stock': 'NaN', 'shared_receipt_with_poi': 'NaN', 'restricted_stock_deferred': 'NaN', 'total_stock_value': 98718, 'expenses': 'NaN', 'loan_advances': 'NaN', 'from_messages': 'NaN', 'other': 'NaN', 'from_this_person_to_poi': 'NaN', 'poi': False, 'director_fees': 'NaN', 'deferred_income': 'NaN', 'long_term_incentive': 'NaN', 'email_address': 'NaN', 'from_poi_to_this_person': 'NaN'}, 'BECK SALLY W': {'salary': 231330, 'to_messages': 7315, 'deferral_payments': 'NaN', 'total_payments': 969068, 'exercised_stock_options': 'NaN', 'bonus': 700000, 'restricted_stock': 126027, 'shared_receipt_with_poi': 2639, 'restricted_stock_deferred': 'NaN', 'total_stock_value': 126027, 'expenses': 37172, 'loan_advances': 'NaN', 'from_messages': 4343, 'other': 566, 'from_this_person_to_poi': 386, 'poi': False, 'director_fees': 'NaN', 'deferred_income': 'NaN', 'long_term_incentive': 'NaN', 'email_address': 'sally.beck@enron.com', 'from_poi_to_this_person': 144}, 'HAUG DAVID L': {'salary': 'NaN', 'to_messages': 573, 'deferral_payments': 'NaN', 'total_payments': 475, 'exercised_stock_options': 'NaN', 'bonus': 'NaN', 'restricted_stock': 2217299, 'shared_receipt_with_poi': 471, 'restricted_stock_deferred': 'NaN', 'total_stock_value': 2217299, 'expenses': 475, 'loan_advances': 'NaN', 'from_messages': 19, 'other': 'NaN', 'from_this_person_to_poi': 7, 'poi': False, 'director_fees': 'NaN', 'deferred_income': 'NaN', 'long_term_incentive': 'NaN', 'email_address': 'david.haug@enron.com', 'from_poi_to_this_person': 4}, 'ECHOLS JOHN B': {'salary': 182245, 'to_messages': 'NaN', 'deferral_payments': 'NaN', 'total_payments': 2692324, 'exercised_stock_options': 601438, 'bonus': 200000, 'restricted_stock': 407503, 'shared_receipt_with_poi': 'NaN', 'restricted_stock_deferred': 'NaN', 'total_stock_value': 1008941, 'expenses': 21530, 'loan_advances': 'NaN', 'from_messages': 'NaN', 'other': 53775, 'from_this_person_to_poi': 'NaN', 'poi': False, 'director_fees': 'NaN', 'deferred_income': 'NaN', 'long_term_incentive': 2234774, 'email_address': 'john.echols@enron.com', 'from_poi_to_this_person': 'NaN'}, 'MENDELSOHN JOHN': {'salary': 'NaN', 'to_messages': 'NaN', 'deferral_payments': 'NaN', 'total_payments': 148, 'exercised_stock_options': 'NaN', 'bonus': 'NaN', 'restricted_stock': 'NaN', 'shared_receipt_with_poi': 'NaN', 'restricted_stock_deferred': 'NaN', 'total_stock_value': 'NaN', 'expenses': 148, 'loan_advances': 'NaN', 'from_messages': 'NaN', 'other': 'NaN', 'from_this_person_to_poi': 'NaN', 'poi': False, 'director_fees': 103750, 'deferred_income': -103750, 'long_term_incentive': 'NaN', 'email_address': 'NaN', 'from_poi_to_this_person': 'NaN'}, 'HICKERSON GARY J': {'salary': 211788, 'to_messages': 1320, 'deferral_payments': 'NaN', 'total_payments': 2081796, 'exercised_stock_options': 'NaN', 'bonus': 1700000, 'restricted_stock': 441096, 'shared_receipt_with_poi': 900, 'restricted_stock_deferred': 'NaN', 'total_stock_value': 441096, 'expenses': 98849, 'loan_advances': 'NaN', 'from_messages': 27, 'other': 1936, 'from_this_person_to_poi': 1, 'poi': False, 'director_fees': 'NaN', 'deferred_income': 'NaN', 'long_term_incentive': 69223, 'email_address': 'gary.hickerson@enron.com', 'from_poi_to_this_person': 40}, 'CLINE KENNETH W': {'salary': 'NaN', 'to_messages': 'NaN', 'deferral_payments': 'NaN', 'total_payments': 'NaN', 'exercised_stock_options': 'NaN', 'bonus': 'NaN', 'restricted_stock': 662086, 'shared_receipt_with_poi': 'NaN', 'restricted_stock_deferred': -472568, 'total_stock_value': 189518, 'expenses': 'NaN', 'loan_advances': 'NaN', 'from_messages': 'NaN', 'other': 'NaN', 'from_this_person_to_poi': 'NaN', 'poi': False, 'director_fees': 'NaN', 'deferred_income': 'NaN', 'long_term_incentive': 'NaN', 'email_address': 'NaN', 'from_poi_to_this_person': 'NaN'}, 'LEWIS RICHARD': {'salary': 'NaN', 'to_messages': 952, 'deferral_payments': 'NaN', 'total_payments': 'NaN', 'exercised_stock_options': 850477, 'bonus': 'NaN', 'restricted_stock': 'NaN', 'shared_receipt_with_poi': 739, 'restricted_stock_deferred': 'NaN', 'total_stock_value': 850477, 'expenses': 'NaN', 'loan_advances': 'NaN', 'from_messages': 26, 'other': 'NaN', 'from_this_person_to_poi': 0, 'poi': False, 'director_fees': 'NaN', 'deferred_income': 'NaN', 'long_term_incentive': 'NaN', 'email_address': 'richard.lewis@enron.com', 'from_poi_to_this_person': 10}, 'HAYES ROBERT E': {'salary': 'NaN', 'to_messages': 504, 'deferral_payments': 7961, 'total_payments': 7961, 'exercised_stock_options': 'NaN', 'bonus': 'NaN', 'restricted_stock': 151418, 'shared_receipt_with_poi': 50, 'restricted_stock_deferred': 'NaN', 'total_stock_value': 151418, 'expenses': 'NaN', 'loan_advances': 'NaN', 'from_messages': 12, 'other': 'NaN', 'from_this_person_to_poi': 0, 'poi': False, 'director_fees': 'NaN', 'deferred_income': 'NaN', 'long_term_incentive': 'NaN', 'email_address': 'robert.hayes@enron.com', 'from_poi_to_this_person': 16}, 'MCCARTY DANNY J': {'salary': 'NaN', 'to_messages': 1433, 'deferral_payments': 'NaN', 'total_payments': 'NaN', 'exercised_stock_options': 664375, 'bonus': 'NaN', 'restricted_stock': 94556, 'shared_receipt_with_poi': 508, 'restricted_stock_deferred': 'NaN', 'total_stock_value': 758931, 'expenses': 'NaN', 'loan_advances': 'NaN', 'from_messages': 215, 'other': 'NaN', 'from_this_person_to_poi': 2, 'poi': False, 'director_fees': 'NaN', 'deferred_income': 'NaN', 'long_term_incentive': 'NaN', 'email_address': 'danny.mccarty@enron.com', 'from_poi_to_this_person': 25}, 'KOPPER MICHAEL J': {'salary': 224305, 'to_messages': 'NaN', 'deferral_payments': 'NaN', 'total_payments': 2652612, 'exercised_stock_options': 'NaN', 'bonus': 800000, 'restricted_stock': 985032, 'shared_receipt_with_poi': 'NaN', 'restricted_stock_deferred': 'NaN', 'total_stock_value': 985032, 'expenses': 118134, 'loan_advances': 'NaN', 'from_messages': 'NaN', 'other': 907502, 'from_this_person_to_poi': 'NaN', 'poi': True, 'director_fees': 'NaN', 'deferred_income': 'NaN', 'long_term_incentive': 602671, 'email_address': 'michael.kopper@enron.com', 'from_poi_to_this_person': 'NaN'}, 'LEFF DANIEL P': {'salary': 273746, 'to_messages': 2822, 'deferral_payments': 'NaN', 'total_payments': 2664228, 'exercised_stock_options': 'NaN', 'bonus': 1000000, 'restricted_stock': 360528, 'shared_receipt_with_poi': 2672, 'restricted_stock_deferred': 'NaN', 'total_stock_value': 360528, 'expenses': 'NaN', 'loan_advances': 'NaN', 'from_messages': 63, 'other': 3083, 'from_this_person_to_poi': 14, 'poi': False, 'director_fees': 'NaN', 'deferred_income': 'NaN', 'long_term_incentive': 1387399, 'email_address': 'dan.leff@enron.com', 'from_poi_to_this_person': 67}, 'LAVORATO JOHN J': {'salary': 339288, 'to_messages': 7259, 'deferral_payments': 'NaN', 'total_payments': 10425757, 'exercised_stock_options': 4158995, 'bonus': 8000000, 'restricted_stock': 1008149, 'shared_receipt_with_poi': 3962, 'restricted_stock_deferred': 'NaN', 'total_stock_value': 5167144, 'expenses': 49537, 'loan_advances': 'NaN', 'from_messages': 2585, 'other': 1552, 'from_this_person_to_poi': 411, 'poi': False, 'director_fees': 'NaN', 'deferred_income': 'NaN', 'long_term_incentive': 2035380, 'email_address': 'john.lavorato@enron.com', 'from_poi_to_this_person': 528}, 'BERBERIAN DAVID': {'salary': 216582, 'to_messages': 'NaN', 'deferral_payments': 'NaN', 'total_payments': 228474, 'exercised_stock_options': 1624396, 'bonus': 'NaN', 'restricted_stock': 869220, 'shared_receipt_with_poi': 'NaN', 'restricted_stock_deferred': 'NaN', 'total_stock_value': 2493616, 'expenses': 11892, 'loan_advances': 'NaN', 'from_messages': 'NaN', 'other': 'NaN', 'from_this_person_to_poi': 'NaN', 'poi': False, 'director_fees': 'NaN', 'deferred_income': 'NaN', 'long_term_incentive': 'NaN', 'email_address': 'david.berberian@enron.com', 'from_poi_to_this_person': 'NaN'}, 'DETMERING TIMOTHY J': {'salary': 210500, 'to_messages': 'NaN', 'deferral_payments': 875307, 'total_payments': 1204583, 'exercised_stock_options': 2027865, 'bonus': 425000, 'restricted_stock': 315068, 'shared_receipt_with_poi': 'NaN', 'restricted_stock_deferred': -315068, 'total_stock_value': 2027865, 'expenses': 52255, 'loan_advances': 'NaN', 'from_messages': 'NaN', 'other': 1105, 'from_this_person_to_poi': 'NaN', 'poi': False, 'director_fees': 'NaN', 'deferred_income': -775241, 'long_term_incentive': 415657, 'email_address': 'timothy.detmering@enron.com', 'from_poi_to_this_person': 'NaN'}, 'WAKEHAM JOHN': {'salary': 'NaN', 'to_messages': 'NaN', 'deferral_payments': 'NaN', 'total_payments': 213071, 'exercised_stock_options': 'NaN', 'bonus': 'NaN', 'restricted_stock': 'NaN', 'shared_receipt_with_poi': 'NaN', 'restricted_stock_deferred': 'NaN', 'total_stock_value': 'NaN', 'expenses': 103773, 'loan_advances': 'NaN', 'from_messages': 'NaN', 'other': 'NaN', 'from_this_person_to_poi': 'NaN', 'poi': False, 'director_fees': 109298, 'deferred_income': 'NaN', 'long_term_incentive': 'NaN', 'email_address': 'NaN', 'from_poi_to_this_person': 'NaN'}, 'POWERS WILLIAM': {'salary': 'NaN', 'to_messages': 653, 'deferral_payments': 'NaN', 'total_payments': 'NaN', 'exercised_stock_options': 'NaN', 'bonus': 'NaN', 'restricted_stock': 'NaN', 'shared_receipt_with_poi': 12, 'restricted_stock_deferred': 'NaN', 'total_stock_value': 'NaN', 'expenses': 'NaN', 'loan_advances': 'NaN', 'from_messages': 26, 'other': 'NaN', 'from_this_person_to_poi': 0, 'poi': False, 'director_fees': 17500, 'deferred_income': -17500, 'long_term_incentive': 'NaN', 'email_address': 'ken.powers@enron.com', 'from_poi_to_this_person': 0}, 'GOLD JOSEPH': {'salary': 272880, 'to_messages': 'NaN', 'deferral_payments': 'NaN', 'total_payments': 2146973, 'exercised_stock_options': 436515, 'bonus': 750000, 'restricted_stock': 441096, 'shared_receipt_with_poi': 'NaN', 'restricted_stock_deferred': 'NaN', 'total_stock_value': 877611, 'expenses': 'NaN', 'loan_advances': 'NaN', 'from_messages': 'NaN', 'other': 819288, 'from_this_person_to_poi': 'NaN', 'poi': False, 'director_fees': 'NaN', 'deferred_income': 'NaN', 'long_term_incentive': 304805, 'email_address': 'joe.gold@enron.com', 'from_poi_to_this_person': 'NaN'}, 'BANNANTINE JAMES M': {'salary': 477, 'to_messages': 566, 'deferral_payments': 'NaN', 'total_payments': 916197, 'exercised_stock_options': 4046157, 'bonus': 'NaN', 'restricted_stock': 1757552, 'shared_receipt_with_poi': 465, 'restricted_stock_deferred': -560222, 'total_stock_value': 5243487, 'expenses': 56301, 'loan_advances': 'NaN', 'from_messages': 29, 'other': 864523, 'from_this_person_to_poi': 0, 'poi': False, 'director_fees': 'NaN', 'deferred_income': -5104, 'long_term_incentive': 'NaN', 'email_address': 'james.bannantine@enron.com', 'from_poi_to_this_person': 39}, 'DUNCAN JOHN H': {'salary': 'NaN', 'to_messages': 'NaN', 'deferral_payments': 'NaN', 'total_payments': 77492, 'exercised_stock_options': 371750, 'bonus': 'NaN', 'restricted_stock': 'NaN', 'shared_receipt_with_poi': 'NaN', 'restricted_stock_deferred': 'NaN', 'total_stock_value': 371750, 'expenses': 'NaN', 'loan_advances': 'NaN', 'from_messages': 'NaN', 'other': 'NaN', 'from_this_person_to_poi': 'NaN', 'poi': False, 'director_fees': 102492, 'deferred_income': -25000, 'long_term_incentive': 'NaN', 'email_address': 'NaN', 'from_poi_to_this_person': 'NaN'}, 'SHAPIRO RICHARD S': {'salary': 269076, 'to_messages': 15149, 'deferral_payments': 'NaN', 'total_payments': 1057548, 'exercised_stock_options': 607837, 'bonus': 650000, 'restricted_stock': 379164, 'shared_receipt_with_poi': 4527, 'restricted_stock_deferred': 'NaN', 'total_stock_value': 987001, 'expenses': 137767, 'loan_advances': 'NaN', 'from_messages': 1215, 'other': 705, 'from_this_person_to_poi': 65, 'poi': False, 'director_fees': 'NaN', 'deferred_income': 'NaN', 'long_term_incentive': 'NaN', 'email_address': 'richard.shapiro@enron.com', 'from_poi_to_this_person': 74}, 'SHERRIFF JOHN R': {'salary': 428780, 'to_messages': 3187, 'deferral_payments': 'NaN', 'total_payments': 4335388, 'exercised_stock_options': 1835558, 'bonus': 1500000, 'restricted_stock': 1293424, 'shared_receipt_with_poi': 2103, 'restricted_stock_deferred': 'NaN', 'total_stock_value': 3128982, 'expenses': 'NaN', 'loan_advances': 'NaN', 'from_messages': 92, 'other': 1852186, 'from_this_person_to_poi': 23, 'poi': False, 'director_fees': 'NaN', 'deferred_income': 'NaN', 'long_term_incentive': 554422, 'email_address': 'john.sherriff@enron.com', 'from_poi_to_this_person': 28}, 'SHELBY REX': {'salary': 211844, 'to_messages': 225, 'deferral_payments': 'NaN', 'total_payments': 2003885, 'exercised_stock_options': 1624396, 'bonus': 200000, 'restricted_stock': 869220, 'shared_receipt_with_poi': 91, 'restricted_stock_deferred': 'NaN', 'total_stock_value': 2493616, 'expenses': 22884, 'loan_advances': 'NaN', 'from_messages': 39, 'other': 1573324, 'from_this_person_to_poi': 14, 'poi': True, 'director_fees': 'NaN', 'deferred_income': -4167, 'long_term_incentive': 'NaN', 'email_address': 'rex.shelby@enron.com', 'from_poi_to_this_person': 13}, 'LEMAISTRE CHARLES': {'salary': 'NaN', 'to_messages': 'NaN', 'deferral_payments': 'NaN', 'total_payments': 87492, 'exercised_stock_options': 412878, 'bonus': 'NaN', 'restricted_stock': 'NaN', 'shared_receipt_with_poi': 'NaN', 'restricted_stock_deferred': 'NaN', 'total_stock_value': 412878, 'expenses': 'NaN', 'loan_advances': 'NaN', 'from_messages': 'NaN', 'other': 'NaN', 'from_this_person_to_poi': 'NaN', 'poi': False, 'director_fees': 112492, 'deferred_income': -25000, 'long_term_incentive': 'NaN', 'email_address': 'NaN', 'from_poi_to_this_person': 'NaN'}, 'DEFFNER JOSEPH M': {'salary': 206121, 'to_messages': 714, 'deferral_payments': 'NaN', 'total_payments': 1208649, 'exercised_stock_options': 17378, 'bonus': 600000, 'restricted_stock': 141833, 'shared_receipt_with_poi': 552, 'restricted_stock_deferred': 'NaN', 'total_stock_value': 159211, 'expenses': 41626, 'loan_advances': 'NaN', 'from_messages': 74, 'other': 25553, 'from_this_person_to_poi': 4, 'poi': False, 'director_fees': 'NaN', 'deferred_income': 'NaN', 'long_term_incentive': 335349, 'email_address': 'joseph.deffner@enron.com', 'from_poi_to_this_person': 115}, 'KISHKILL JOSEPH G': {'salary': 174246, 'to_messages': 'NaN', 'deferral_payments': 'NaN', 'total_payments': 704896, 'exercised_stock_options': 'NaN', 'bonus': 'NaN', 'restricted_stock': 1034346, 'shared_receipt_with_poi': 'NaN', 'restricted_stock_deferred': 'NaN', 'total_stock_value': 1034346, 'expenses': 116335, 'loan_advances': 'NaN', 'from_messages': 'NaN', 'other': 465357, 'from_this_person_to_poi': 'NaN', 'poi': False, 'director_fees': 'NaN', 'deferred_income': -51042, 'long_term_incentive': 'NaN', 'email_address': 'joe.kishkill@enron.com', 'from_poi_to_this_person': 'NaN'}, 'WHALLEY LAWRENCE G': {'salary': 510364, 'to_messages': 6019, 'deferral_payments': 'NaN', 'total_payments': 4677574, 'exercised_stock_options': 3282960, 'bonus': 3000000, 'restricted_stock': 2796177, 'shared_receipt_with_poi': 3920, 'restricted_stock_deferred': 'NaN', 'total_stock_value': 6079137, 'expenses': 57838, 'loan_advances': 'NaN', 'from_messages': 556, 'other': 301026, 'from_this_person_to_poi': 24, 'poi': False, 'director_fees': 'NaN', 'deferred_income': 'NaN', 'long_term_incentive': 808346, 'email_address': 'greg.whalley@enron.com', 'from_poi_to_this_person': 186}, 'MCCONNELL MICHAEL S': {'salary': 365038, 'to_messages': 3329, 'deferral_payments': 'NaN', 'total_payments': 2101364, 'exercised_stock_options': 1623010, 'bonus': 1100000, 'restricted_stock': 1478269, 'shared_receipt_with_poi': 2189, 'restricted_stock_deferred': 'NaN', 'total_stock_value': 3101279, 'expenses': 81364, 'loan_advances': 'NaN', 'from_messages': 2742, 'other': 540, 'from_this_person_to_poi': 194, 'poi': False, 'director_fees': 'NaN', 'deferred_income': 'NaN', 'long_term_incentive': 554422, 'email_address': 'mike.mcconnell@enron.com', 'from_poi_to_this_person': 92}, 'PIRO JIM': {'salary': 'NaN', 'to_messages': 58, 'deferral_payments': 'NaN', 'total_payments': 'NaN', 'exercised_stock_options': 'NaN', 'bonus': 'NaN', 'restricted_stock': 47304, 'shared_receipt_with_poi': 3, 'restricted_stock_deferred': 'NaN', 'total_stock_value': 47304, 'expenses': 'NaN', 'loan_advances': 'NaN', 'from_messages': 16, 'other': 'NaN', 'from_this_person_to_poi': 1, 'poi': False, 'director_fees': 'NaN', 'deferred_income': 'NaN', 'long_term_incentive': 'NaN', 'email_address': 'jim.piro@enron.com', 'from_poi_to_this_person': 0}, 'DELAINEY DAVID W': {'salary': 365163, 'to_messages': 3093, 'deferral_payments': 'NaN', 'total_payments': 4747979, 'exercised_stock_options': 2291113, 'bonus': 3000000, 'restricted_stock': 1323148, 'shared_receipt_with_poi': 2097, 'restricted_stock_deferred': 'NaN', 'total_stock_value': 3614261, 'expenses': 86174, 'loan_advances': 'NaN', 'from_messages': 3069, 'other': 1661, 'from_this_person_to_poi': 609, 'poi': True, 'director_fees': 'NaN', 'deferred_income': 'NaN', 'long_term_incentive': 1294981, 'email_address': 'david.delainey@enron.com', 'from_poi_to_this_person': 66}, 'SULLIVAN-SHAKLOVITZ COLLEEN': {'salary': 162779, 'to_messages': 'NaN', 'deferral_payments': 181993, 'total_payments': 999356, 'exercised_stock_options': 1362375, 'bonus': 100000, 'restricted_stock': 'NaN', 'shared_receipt_with_poi': 'NaN', 'restricted_stock_deferred': 'NaN', 'total_stock_value': 1362375, 'expenses': 'NaN', 'loan_advances': 'NaN', 'from_messages': 'NaN', 'other': 162, 'from_this_person_to_poi': 'NaN', 'poi': False, 'director_fees': 'NaN', 'deferred_income': 'NaN', 'long_term_incentive': 554422, 'email_address': 'NaN', 'from_poi_to_this_person': 'NaN'}, 'WROBEL BRUCE': {'salary': 'NaN', 'to_messages': 'NaN', 'deferral_payments': 'NaN', 'total_payments': 'NaN', 'exercised_stock_options': 139130, 'bonus': 'NaN', 'restricted_stock': 'NaN', 'shared_receipt_with_poi': 'NaN', 'restricted_stock_deferred': 'NaN', 'total_stock_value': 139130, 'expenses': 'NaN', 'loan_advances': 'NaN', 'from_messages': 'NaN', 'other': 'NaN', 'from_this_person_to_poi': 'NaN', 'poi': False, 'director_fees': 'NaN', 'deferred_income': 'NaN', 'long_term_incentive': 'NaN', 'email_address': 'NaN', 'from_poi_to_this_person': 'NaN'}, 'LINDHOLM TOD A': {'salary': 236457, 'to_messages': 'NaN', 'deferral_payments': 204075, 'total_payments': 875889, 'exercised_stock_options': 2549361, 'bonus': 200000, 'restricted_stock': 514847, 'shared_receipt_with_poi': 'NaN', 'restricted_stock_deferred': 'NaN', 'total_stock_value': 3064208, 'expenses': 57727, 'loan_advances': 'NaN', 'from_messages': 'NaN', 'other': 2630, 'from_this_person_to_poi': 'NaN', 'poi': False, 'director_fees': 'NaN', 'deferred_income': 'NaN', 'long_term_incentive': 175000, 'email_address': 'tod.lindholm@enron.com', 'from_poi_to_this_person': 'NaN'}, 'MEYER JEROME J': {'salary': 'NaN', 'to_messages': 'NaN', 'deferral_payments': 'NaN', 'total_payments': 2151, 'exercised_stock_options': 'NaN', 'bonus': 'NaN', 'restricted_stock': 'NaN', 'shared_receipt_with_poi': 'NaN', 'restricted_stock_deferred': 'NaN', 'total_stock_value': 'NaN', 'expenses': 2151, 'loan_advances': 'NaN', 'from_messages': 'NaN', 'other': 'NaN', 'from_this_person_to_poi': 'NaN', 'poi': False, 'director_fees': 38346, 'deferred_income': -38346, 'long_term_incentive': 'NaN', 'email_address': 'NaN', 'from_poi_to_this_person': 'NaN'}, 'LAY KENNETH L': {'salary': 1072321, 'to_messages': 4273, 'deferral_payments': 202911, 'total_payments': 103559793, 'exercised_stock_options': 34348384, 'bonus': 7000000, 'restricted_stock': 14761694, 'shared_receipt_with_poi': 2411, 'restricted_stock_deferred': 'NaN', 'total_stock_value': 49110078, 'expenses': 99832, 'loan_advances': 81525000, 'from_messages': 36, 'other': 10359729, 'from_this_person_to_poi': 16, 'poi': True, 'director_fees': 'NaN', 'deferred_income': -300000, 'long_term_incentive': 3600000, 'email_address': 'kenneth.lay@enron.com', 'from_poi_to_this_person': 123}, 'BUTTS ROBERT H': {'salary': 261516, 'to_messages': 'NaN', 'deferral_payments': 'NaN', 'total_payments': 1271582, 'exercised_stock_options': 'NaN', 'bonus': 750000, 'restricted_stock': 417619, 'shared_receipt_with_poi': 'NaN', 'restricted_stock_deferred': 'NaN', 'total_stock_value': 417619, 'expenses': 9410, 'loan_advances': 'NaN', 'from_messages': 'NaN', 'other': 150656, 'from_this_person_to_poi': 'NaN', 'poi': False, 'director_fees': 'NaN', 'deferred_income': -75000, 'long_term_incentive': 175000, 'email_address': 'bob.butts@enron.com', 'from_poi_to_this_person': 'NaN'}, 'OLSON CINDY K': {'salary': 329078, 'to_messages': 1184, 'deferral_payments': 77716, 'total_payments': 1321557, 'exercised_stock_options': 1637034, 'bonus': 750000, 'restricted_stock': 969729, 'shared_receipt_with_poi': 856, 'restricted_stock_deferred': 'NaN', 'total_stock_value': 2606763, 'expenses': 63791, 'loan_advances': 'NaN', 'from_messages': 52, 'other': 972, 'from_this_person_to_poi': 15, 'poi': False, 'director_fees': 'NaN', 'deferred_income': 'NaN', 'long_term_incentive': 100000, 'email_address': 'cindy.olson@enron.com', 'from_poi_to_this_person': 20}, 'MCDONALD REBECCA': {'salary': 'NaN', 'to_messages': 894, 'deferral_payments': 'NaN', 'total_payments': 'NaN', 'exercised_stock_options': 757301, 'bonus': 'NaN', 'restricted_stock': 934065, 'shared_receipt_with_poi': 720, 'restricted_stock_deferred': 'NaN', 'total_stock_value': 1691366, 'expenses': 'NaN', 'loan_advances': 'NaN', 'from_messages': 13, 'other': 'NaN', 'from_this_person_to_poi': 1, 'poi': False, 'director_fees': 'NaN', 'deferred_income': 'NaN', 'long_term_incentive': 'NaN', 'email_address': 'rebecca.mcdonald@enron.com', 'from_poi_to_this_person': 54}, 'CUMBERLAND MICHAEL S': {'salary': 184899, 'to_messages': 'NaN', 'deferral_payments': 'NaN', 'total_payments': 807956, 'exercised_stock_options': 'NaN', 'bonus': 325000, 'restricted_stock': 207940, 'shared_receipt_with_poi': 'NaN', 'restricted_stock_deferred': 'NaN', 'total_stock_value': 207940, 'expenses': 22344, 'loan_advances': 'NaN', 'from_messages': 'NaN', 'other': 713, 'from_this_person_to_poi': 'NaN', 'poi': False, 'director_fees': 'NaN', 'deferred_income': 'NaN', 'long_term_incentive': 275000, 'email_address': 'NaN', 'from_poi_to_this_person': 'NaN'}, 'GAHN ROBERT S': {'salary': 192008, 'to_messages': 'NaN', 'deferral_payments': 73122, 'total_payments': 900585, 'exercised_stock_options': 83237, 'bonus': 509870, 'restricted_stock': 235370, 'shared_receipt_with_poi': 'NaN', 'restricted_stock_deferred': 'NaN', 'total_stock_value': 318607, 'expenses': 50080, 'loan_advances': 'NaN', 'from_messages': 'NaN', 'other': 76547, 'from_this_person_to_poi': 'NaN', 'poi': False, 'director_fees': 'NaN', 'deferred_income': -1042, 'long_term_incentive': 'NaN', 'email_address': 'NaN', 'from_poi_to_this_person': 'NaN'}, 'MCCLELLAN GEORGE': {'salary': 263413, 'to_messages': 1744, 'deferral_payments': 'NaN', 'total_payments': 1318763, 'exercised_stock_options': 506765, 'bonus': 900000, 'restricted_stock': 441096, 'shared_receipt_with_poi': 1469, 'restricted_stock_deferred': 'NaN', 'total_stock_value': 947861, 'expenses': 228763, 'loan_advances': 'NaN', 'from_messages': 49, 'other': 51587, 'from_this_person_to_poi': 0, 'poi': False, 'director_fees': 'NaN', 'deferred_income': -125000, 'long_term_incentive': 'NaN', 'email_address': 'george.mcclellan@enron.com', 'from_poi_to_this_person': 52}, 'HERMANN ROBERT J': {'salary': 262663, 'to_messages': 'NaN', 'deferral_payments': 'NaN', 'total_payments': 1297461, 'exercised_stock_options': 187500, 'bonus': 700000, 'restricted_stock': 480632, 'shared_receipt_with_poi': 'NaN', 'restricted_stock_deferred': 'NaN', 'total_stock_value': 668132, 'expenses': 48357, 'loan_advances': 'NaN', 'from_messages': 'NaN', 'other': 416441, 'from_this_person_to_poi': 'NaN', 'poi': False, 'director_fees': 'NaN', 'deferred_income': -280000, 'long_term_incentive': 150000, 'email_address': 'robert.hermann@enron.com', 'from_poi_to_this_person': 'NaN'}, 'SCRIMSHAW MATTHEW': {'salary': 'NaN', 'to_messages': 'NaN', 'deferral_payments': 'NaN', 'total_payments': 'NaN', 'exercised_stock_options': 759557, 'bonus': 'NaN', 'restricted_stock': 'NaN', 'shared_receipt_with_poi': 'NaN', 'restricted_stock_deferred': 'NaN', 'total_stock_value': 759557, 'expenses': 'NaN', 'loan_advances': 'NaN', 'from_messages': 'NaN', 'other': 'NaN', 'from_this_person_to_poi': 'NaN', 'poi': False, 'director_fees': 'NaN', 'deferred_income': 'NaN', 'long_term_incentive': 'NaN', 'email_address': 'matthew.scrimshaw@enron.com', 'from_poi_to_this_person': 'NaN'}, 'GATHMANN WILLIAM D': {'salary': 'NaN', 'to_messages': 'NaN', 'deferral_payments': 'NaN', 'total_payments': 'NaN', 'exercised_stock_options': 1753766, 'bonus': 'NaN', 'restricted_stock': 264013, 'shared_receipt_with_poi': 'NaN', 'restricted_stock_deferred': -72419, 'total_stock_value': 1945360, 'expenses': 'NaN', 'loan_advances': 'NaN', 'from_messages': 'NaN', 'other': 'NaN', 'from_this_person_to_poi': 'NaN', 'poi': False, 'director_fees': 'NaN', 'deferred_income': 'NaN', 'long_term_incentive': 'NaN', 'email_address': 'NaN', 'from_poi_to_this_person': 'NaN'}, 'HAEDICKE MARK E': {'salary': 374125, 'to_messages': 4009, 'deferral_payments': 2157527, 'total_payments': 3859065, 'exercised_stock_options': 608750, 'bonus': 1150000, 'restricted_stock': 524169, 'shared_receipt_with_poi': 1847, 'restricted_stock_deferred': -329825, 'total_stock_value': 803094, 'expenses': 76169, 'loan_advances': 'NaN', 'from_messages': 1941, 'other': 52382, 'from_this_person_to_poi': 61, 'poi': False, 'director_fees': 'NaN', 'deferred_income': -934484, 'long_term_incentive': 983346, 'email_address': 'mark.haedicke@enron.com', 'from_poi_to_this_person': 180}, 'BOWEN JR RAYMOND M': {'salary': 278601, 'to_messages': 1858, 'deferral_payments': 'NaN', 'total_payments': 2669589, 'exercised_stock_options': 'NaN', 'bonus': 1350000, 'restricted_stock': 252055, 'shared_receipt_with_poi': 1593, 'restricted_stock_deferred': 'NaN', 'total_stock_value': 252055, 'expenses': 65907, 'loan_advances': 'NaN', 'from_messages': 27, 'other': 1621, 'from_this_person_to_poi': 15, 'poi': True, 'director_fees': 'NaN', 'deferred_income': -833, 'long_term_incentive': 974293, 'email_address': 'raymond.bowen@enron.com', 'from_poi_to_this_person': 140}, 'GILLIS JOHN': {'salary': 'NaN', 'to_messages': 'NaN', 'deferral_payments': 'NaN', 'total_payments': 'NaN', 'exercised_stock_options': 9803, 'bonus': 'NaN', 'restricted_stock': 75838, 'shared_receipt_with_poi': 'NaN', 'restricted_stock_deferred': 'NaN', 'total_stock_value': 85641, 'expenses': 'NaN', 'loan_advances': 'NaN', 'from_messages': 'NaN', 'other': 'NaN', 'from_this_person_to_poi': 'NaN', 'poi': False, 'director_fees': 'NaN', 'deferred_income': 'NaN', 'long_term_incentive': 'NaN', 'email_address': 'NaN', 'from_poi_to_this_person': 'NaN'}, 'FITZGERALD JAY L': {'salary': 199157, 'to_messages': 936, 'deferral_payments': 'NaN', 'total_payments': 1414857, 'exercised_stock_options': 664461, 'bonus': 350000, 'restricted_stock': 956775, 'shared_receipt_with_poi': 723, 'restricted_stock_deferred': 'NaN', 'total_stock_value': 1621236, 'expenses': 23870, 'loan_advances': 'NaN', 'from_messages': 16, 'other': 285414, 'from_this_person_to_poi': 8, 'poi': False, 'director_fees': 'NaN', 'deferred_income': 'NaN', 'long_term_incentive': 556416, 'email_address': 'jay.fitzgerald@enron.com', 'from_poi_to_this_person': 1}, 'MORAN MICHAEL P': {'salary': 'NaN', 'to_messages': 672, 'deferral_payments': 'NaN', 'total_payments': 'NaN', 'exercised_stock_options': 59539, 'bonus': 'NaN', 'restricted_stock': 161602, 'shared_receipt_with_poi': 127, 'restricted_stock_deferred': 'NaN', 'total_stock_value': 221141, 'expenses': 'NaN', 'loan_advances': 'NaN', 'from_messages': 19, 'other': 'NaN', 'from_this_person_to_poi': 0, 'poi': False, 'director_fees': 'NaN', 'deferred_income': 'NaN', 'long_term_incentive': 'NaN', 'email_address': 'michael.moran@enron.com', 'from_poi_to_this_person': 0}, 'REDMOND BRIAN L': {'salary': 96840, 'to_messages': 1671, 'deferral_payments': 'NaN', 'total_payments': 111529, 'exercised_stock_options': 7509039, 'bonus': 'NaN', 'restricted_stock': 381285, 'shared_receipt_with_poi': 1063, 'restricted_stock_deferred': 'NaN', 'total_stock_value': 7890324, 'expenses': 14689, 'loan_advances': 'NaN', 'from_messages': 221, 'other': 'NaN', 'from_this_person_to_poi': 49, 'poi': False, 'director_fees': 'NaN', 'deferred_income': 'NaN', 'long_term_incentive': 'NaN', 'email_address': 'brian.redmond@enron.com', 'from_poi_to_this_person': 204}, 'BAZELIDES PHILIP J': {'salary': 80818, 'to_messages': 'NaN', 'deferral_payments': 684694, 'total_payments': 860136, 'exercised_stock_options': 1599641, 'bonus': 'NaN', 'restricted_stock': 'NaN', 'shared_receipt_with_poi': 'NaN', 'restricted_stock_deferred': 'NaN', 'total_stock_value': 1599641, 'expenses': 'NaN', 'loan_advances': 'NaN', 'from_messages': 'NaN', 'other': 874, 'from_this_person_to_poi': 'NaN', 'poi': False, 'director_fees': 'NaN', 'deferred_income': 'NaN', 'long_term_incentive': 93750, 'email_address': 'NaN', 'from_poi_to_this_person': 'NaN'}, 'BELDEN TIMOTHY N': {'salary': 213999, 'to_messages': 7991, 'deferral_payments': 2144013, 'total_payments': 5501630, 'exercised_stock_options': 953136, 'bonus': 5249999, 'restricted_stock': 157569, 'shared_receipt_with_poi': 5521, 'restricted_stock_deferred': 'NaN', 'total_stock_value': 1110705, 'expenses': 17355, 'loan_advances': 'NaN', 'from_messages': 484, 'other': 210698, 'from_this_person_to_poi': 108, 'poi': True, 'director_fees': 'NaN', 'deferred_income': -2334434, 'long_term_incentive': 'NaN', 'email_address': 'tim.belden@enron.com', 'from_poi_to_this_person': 228}, 'DURAN WILLIAM D': {'salary': 210692, 'to_messages': 904, 'deferral_payments': 'NaN', 'total_payments': 2093263, 'exercised_stock_options': 1451869, 'bonus': 750000, 'restricted_stock': 189041, 'shared_receipt_with_poi': 599, 'restricted_stock_deferred': 'NaN', 'total_stock_value': 1640910, 'expenses': 25785, 'loan_advances': 'NaN', 'from_messages': 12, 'other': 1568, 'from_this_person_to_poi': 3, 'poi': False, 'director_fees': 'NaN', 'deferred_income': 'NaN', 'long_term_incentive': 1105218, 'email_address': 'w.duran@enron.com', 'from_poi_to_this_person': 106}, 'THORN TERENCE H': {'salary': 222093, 'to_messages': 266, 'deferral_payments': 16586, 'total_payments': 911453, 'exercised_stock_options': 4452476, 'bonus': 'NaN', 'restricted_stock': 365320, 'shared_receipt_with_poi': 73, 'restricted_stock_deferred': 'NaN', 'total_stock_value': 4817796, 'expenses': 46145, 'loan_advances': 'NaN', 'from_messages': 41, 'other': 426629, 'from_this_person_to_poi': 0, 'poi': False, 'director_fees': 'NaN', 'deferred_income': 'NaN', 'long_term_incentive': 200000, 'email_address': 'terence.thorn@enron.com', 'from_poi_to_this_person': 0}, 'FASTOW ANDREW S': {'salary': 440698, 'to_messages': 'NaN', 'deferral_payments': 'NaN', 'total_payments': 2424083, 'exercised_stock_options': 'NaN', 'bonus': 1300000, 'restricted_stock': 1794412, 'shared_receipt_with_poi': 'NaN', 'restricted_stock_deferred': 'NaN', 'total_stock_value': 1794412, 'expenses': 55921, 'loan_advances': 'NaN', 'from_messages': 'NaN', 'other': 277464, 'from_this_person_to_poi': 'NaN', 'poi': True, 'director_fees': 'NaN', 'deferred_income': -1386055, 'long_term_incentive': 1736055, 'email_address': 'andrew.fastow@enron.com', 'from_poi_to_this_person': 'NaN'}, 'FOY JOE': {'salary': 'NaN', 'to_messages': 57, 'deferral_payments': 181755, 'total_payments': 181755, 'exercised_stock_options': 343434, 'bonus': 'NaN', 'restricted_stock': 'NaN', 'shared_receipt_with_poi': 2, 'restricted_stock_deferred': 'NaN', 'total_stock_value': 343434, 'expenses': 'NaN', 'loan_advances': 'NaN', 'from_messages': 13, 'other': 'NaN', 'from_this_person_to_poi': 0, 'poi': False, 'director_fees': 'NaN', 'deferred_income': 'NaN', 'long_term_incentive': 'NaN', 'email_address': 'tracy.foy@enron.com', 'from_poi_to_this_person': 0}, 'CALGER CHRISTOPHER F': {'salary': 240189, 'to_messages': 2598, 'deferral_payments': 'NaN', 'total_payments': 1639297, 'exercised_stock_options': 'NaN', 'bonus': 1250000, 'restricted_stock': 126027, 'shared_receipt_with_poi': 2188, 'restricted_stock_deferred': 'NaN', 'total_stock_value': 126027, 'expenses': 35818, 'loan_advances': 'NaN', 'from_messages': 144, 'other': 486, 'from_this_person_to_poi': 25, 'poi': True, 'director_fees': 'NaN', 'deferred_income': -262500, 'long_term_incentive': 375304, 'email_address': 'christopher.calger@enron.com', 'from_poi_to_this_person': 199}, 'RICE KENNETH D': {'salary': 420636, 'to_messages': 905, 'deferral_payments': 'NaN', 'total_payments': 505050, 'exercised_stock_options': 19794175, 'bonus': 1750000, 'restricted_stock': 2748364, 'shared_receipt_with_poi': 864, 'restricted_stock_deferred': 'NaN', 'total_stock_value': 22542539, 'expenses': 46950, 'loan_advances': 'NaN', 'from_messages': 18, 'other': 174839, 'from_this_person_to_poi': 4, 'poi': True, 'director_fees': 'NaN', 'deferred_income': -3504386, 'long_term_incentive': 1617011, 'email_address': 'ken.rice@enron.com', 'from_poi_to_this_person': 42}, 'KAMINSKI WINCENTY J': {'salary': 275101, 'to_messages': 4607, 'deferral_payments': 'NaN', 'total_payments': 1086821, 'exercised_stock_options': 850010, 'bonus': 400000, 'restricted_stock': 126027, 'shared_receipt_with_poi': 583, 'restricted_stock_deferred': 'NaN', 'total_stock_value': 976037, 'expenses': 83585, 'loan_advances': 'NaN', 'from_messages': 14368, 'other': 4669, 'from_this_person_to_poi': 171, 'poi': False, 'director_fees': 'NaN', 'deferred_income': 'NaN', 'long_term_incentive': 323466, 'email_address': 'vince.kaminski@enron.com', 'from_poi_to_this_person': 41}, 'LOCKHART EUGENE E': {'salary': 'NaN', 'to_messages': 'NaN', 'deferral_payments': 'NaN', 'total_payments': 'NaN', 'exercised_stock_options': 'NaN', 'bonus': 'NaN', 'restricted_stock': 'NaN', 'shared_receipt_with_poi': 'NaN', 'restricted_stock_deferred': 'NaN', 'total_stock_value': 'NaN', 'expenses': 'NaN', 'loan_advances': 'NaN', 'from_messages': 'NaN', 'other': 'NaN', 'from_this_person_to_poi': 'NaN', 'poi': False, 'director_fees': 'NaN', 'deferred_income': 'NaN', 'long_term_incentive': 'NaN', 'email_address': 'NaN', 'from_poi_to_this_person': 'NaN'}, 'COX DAVID': {'salary': 314288, 'to_messages': 102, 'deferral_payments': 'NaN', 'total_payments': 1101393, 'exercised_stock_options': 117551, 'bonus': 800000, 'restricted_stock': 378082, 'shared_receipt_with_poi': 71, 'restricted_stock_deferred': 'NaN', 'total_stock_value': 495633, 'expenses': 27861, 'loan_advances': 'NaN', 'from_messages': 33, 'other': 494, 'from_this_person_to_poi': 4, 'poi': False, 'director_fees': 'NaN', 'deferred_income': -41250, 'long_term_incentive': 'NaN', 'email_address': 'chip.cox@enron.com', 'from_poi_to_this_person': 0}, 'OVERDYKE JR JERE C': {'salary': 94941, 'to_messages': 'NaN', 'deferral_payments': 'NaN', 'total_payments': 249787, 'exercised_stock_options': 5266578, 'bonus': 'NaN', 'restricted_stock': 2041016, 'shared_receipt_with_poi': 'NaN', 'restricted_stock_deferred': 'NaN', 'total_stock_value': 7307594, 'expenses': 18834, 'loan_advances': 'NaN', 'from_messages': 'NaN', 'other': 176, 'from_this_person_to_poi': 'NaN', 'poi': False, 'director_fees': 'NaN', 'deferred_income': 'NaN', 'long_term_incentive': 135836, 'email_address': 'jere.overdyke@enron.com', 'from_poi_to_this_person': 'NaN'}, 'PEREIRA PAULO V. FERRAZ': {'salary': 'NaN', 'to_messages': 'NaN', 'deferral_payments': 'NaN', 'total_payments': 27942, 'exercised_stock_options': 'NaN', 'bonus': 'NaN', 'restricted_stock': 'NaN', 'shared_receipt_with_poi': 'NaN', 'restricted_stock_deferred': 'NaN', 'total_stock_value': 'NaN', 'expenses': 27942, 'loan_advances': 'NaN', 'from_messages': 'NaN', 'other': 'NaN', 'from_this_person_to_poi': 'NaN', 'poi': False, 'director_fees': 101250, 'deferred_income': -101250, 'long_term_incentive': 'NaN', 'email_address': 'NaN', 'from_poi_to_this_person': 'NaN'}, 'STABLER FRANK': {'salary': 239502, 'to_messages': 'NaN', 'deferral_payments': 'NaN', 'total_payments': 1112087, 'exercised_stock_options': 'NaN', 'bonus': 500000, 'restricted_stock': 511734, 'shared_receipt_with_poi': 'NaN', 'restricted_stock_deferred': 'NaN', 'total_stock_value': 511734, 'expenses': 16514, 'loan_advances': 'NaN', 'from_messages': 'NaN', 'other': 356071, 'from_this_person_to_poi': 'NaN', 'poi': False, 'director_fees': 'NaN', 'deferred_income': 'NaN', 'long_term_incentive': 'NaN', 'email_address': 'frank.stabler@enron.com', 'from_poi_to_this_person': 'NaN'}, 'SKILLING JEFFREY K': {'salary': 1111258, 'to_messages': 3627, 'deferral_payments': 'NaN', 'total_payments': 8682716, 'exercised_stock_options': 19250000, 'bonus': 5600000, 'restricted_stock': 6843672, 'shared_receipt_with_poi': 2042, 'restricted_stock_deferred': 'NaN', 'total_stock_value': 26093672, 'expenses': 29336, 'loan_advances': 'NaN', 'from_messages': 108, 'other': 22122, 'from_this_person_to_poi': 30, 'poi': True, 'director_fees': 'NaN', 'deferred_income': 'NaN', 'long_term_incentive': 1920000, 'email_address': 'jeff.skilling@enron.com', 'from_poi_to_this_person': 88}, 'BLAKE JR. NORMAN P': {'salary': 'NaN', 'to_messages': 'NaN', 'deferral_payments': 'NaN', 'total_payments': 1279, 'exercised_stock_options': 'NaN', 'bonus': 'NaN', 'restricted_stock': 'NaN', 'shared_receipt_with_poi': 'NaN', 'restricted_stock_deferred': 'NaN', 'total_stock_value': 'NaN', 'expenses': 1279, 'loan_advances': 'NaN', 'from_messages': 'NaN', 'other': 'NaN', 'from_this_person_to_poi': 'NaN', 'poi': False, 'director_fees': 113784, 'deferred_income': -113784, 'long_term_incentive': 'NaN', 'email_address': 'NaN', 'from_poi_to_this_person': 'NaN'}, 'SHERRICK JEFFREY B': {'salary': 'NaN', 'to_messages': 613, 'deferral_payments': 'NaN', 'total_payments': 'NaN', 'exercised_stock_options': 1426469, 'bonus': 'NaN', 'restricted_stock': 405999, 'shared_receipt_with_poi': 583, 'restricted_stock_deferred': 'NaN', 'total_stock_value': 1832468, 'expenses': 'NaN', 'loan_advances': 'NaN', 'from_messages': 25, 'other': 'NaN', 'from_this_person_to_poi': 18, 'poi': False, 'director_fees': 'NaN', 'deferred_income': 'NaN', 'long_term_incentive': 'NaN', 'email_address': 'jeffrey.sherrick@enron.com', 'from_poi_to_this_person': 39}, 'PRENTICE JAMES': {'salary': 'NaN', 'to_messages': 'NaN', 'deferral_payments': 564348, 'total_payments': 564348, 'exercised_stock_options': 886231, 'bonus': 'NaN', 'restricted_stock': 208809, 'shared_receipt_with_poi': 'NaN', 'restricted_stock_deferred': 'NaN', 'total_stock_value': 1095040, 'expenses': 'NaN', 'loan_advances': 'NaN', 'from_messages': 'NaN', 'other': 'NaN', 'from_this_person_to_poi': 'NaN', 'poi': False, 'director_fees': 'NaN', 'deferred_income': 'NaN', 'long_term_incentive': 'NaN', 'email_address': 'james.prentice@enron.com', 'from_poi_to_this_person': 'NaN'}, 'GRAY RODNEY': {'salary': 6615, 'to_messages': 'NaN', 'deferral_payments': 93585, 'total_payments': 1146658, 'exercised_stock_options': 'NaN', 'bonus': 'NaN', 'restricted_stock': 'NaN', 'shared_receipt_with_poi': 'NaN', 'restricted_stock_deferred': 'NaN', 'total_stock_value': 'NaN', 'expenses': 'NaN', 'loan_advances': 'NaN', 'from_messages': 'NaN', 'other': 680833, 'from_this_person_to_poi': 'NaN', 'poi': False, 'director_fees': 'NaN', 'deferred_income': 'NaN', 'long_term_incentive': 365625, 'email_address': 'NaN', 'from_poi_to_this_person': 'NaN'}, 'PICKERING MARK R': {'salary': 655037, 'to_messages': 898, 'deferral_payments': 'NaN', 'total_payments': 1386690, 'exercised_stock_options': 28798, 'bonus': 300000, 'restricted_stock': 'NaN', 'shared_receipt_with_poi': 728, 'restricted_stock_deferred': 'NaN', 'total_stock_value': 28798, 'expenses': 31653, 'loan_advances': 400000, 'from_messages': 67, 'other': 'NaN', 'from_this_person_to_poi': 0, 'poi': False, 'director_fees': 'NaN', 'deferred_income': 'NaN', 'long_term_incentive': 'NaN', 'email_address': 'mark.pickering@enron.com', 'from_poi_to_this_person': 7}, 'THE TRAVEL AGENCY IN THE PARK': {'salary': 'NaN', 'to_messages': 'NaN', 'deferral_payments': 'NaN', 'total_payments': 362096, 'exercised_stock_options': 'NaN', 'bonus': 'NaN', 'restricted_stock': 'NaN', 'shared_receipt_with_poi': 'NaN', 'restricted_stock_deferred': 'NaN', 'total_stock_value': 'NaN', 'expenses': 'NaN', 'loan_advances': 'NaN', 'from_messages': 'NaN', 'other': 362096, 'from_this_person_to_poi': 'NaN', 'poi': False, 'director_fees': 'NaN', 'deferred_income': 'NaN', 'long_term_incentive': 'NaN', 'email_address': 'NaN', 'from_poi_to_this_person': 'NaN'}, 'NOLES JAMES L': {'salary': 'NaN', 'to_messages': 'NaN', 'deferral_payments': 774401, 'total_payments': 774401, 'exercised_stock_options': 'NaN', 'bonus': 'NaN', 'restricted_stock': 463261, 'shared_receipt_with_poi': 'NaN', 'restricted_stock_deferred': -94556, 'total_stock_value': 368705, 'expenses': 'NaN', 'loan_advances': 'NaN', 'from_messages': 'NaN', 'other': 'NaN', 'from_this_person_to_poi': 'NaN', 'poi': False, 'director_fees': 'NaN', 'deferred_income': 'NaN', 'long_term_incentive': 'NaN', 'email_address': 'NaN', 'from_poi_to_this_person': 'NaN'}, 'KEAN STEVEN J': {'salary': 404338, 'to_messages': 12754, 'deferral_payments': 'NaN', 'total_payments': 1747522, 'exercised_stock_options': 2022048, 'bonus': 1000000, 'restricted_stock': 4131594, 'shared_receipt_with_poi': 3639, 'restricted_stock_deferred': 'NaN', 'total_stock_value': 6153642, 'expenses': 41953, 'loan_advances': 'NaN', 'from_messages': 6759, 'other': 1231, 'from_this_person_to_poi': 387, 'poi': False, 'director_fees': 'NaN', 'deferred_income': 'NaN', 'long_term_incentive': 300000, 'email_address': 'steven.kean@enron.com', 'from_poi_to_this_person': 140}, 'FOWLER PEGGY': {'salary': 'NaN', 'to_messages': 517, 'deferral_payments': 'NaN', 'total_payments': 'NaN', 'exercised_stock_options': 1324578, 'bonus': 'NaN', 'restricted_stock': 560170, 'shared_receipt_with_poi': 10, 'restricted_stock_deferred': 'NaN', 'total_stock_value': 1884748, 'expenses': 'NaN', 'loan_advances': 'NaN', 'from_messages': 36, 'other': 'NaN', 'from_this_person_to_poi': 0, 'poi': False, 'director_fees': 'NaN', 'deferred_income': 'NaN', 'long_term_incentive': 'NaN', 'email_address': 'kulvinder.fowler@enron.com', 'from_poi_to_this_person': 0}, 'WASAFF GEORGE': {'salary': 259996, 'to_messages': 400, 'deferral_payments': 831299, 'total_payments': 1034395, 'exercised_stock_options': 1668260, 'bonus': 325000, 'restricted_stock': 388167, 'shared_receipt_with_poi': 337, 'restricted_stock_deferred': 'NaN', 'total_stock_value': 2056427, 'expenses': 'NaN', 'loan_advances': 'NaN', 'from_messages': 30, 'other': 1425, 'from_this_person_to_poi': 7, 'poi': False, 'director_fees': 'NaN', 'deferred_income': -583325, 'long_term_incentive': 200000, 'email_address': 'george.wasaff@enron.com', 'from_poi_to_this_person': 22}, 'WHITE JR THOMAS E': {'salary': 317543, 'to_messages': 'NaN', 'deferral_payments': 'NaN', 'total_payments': 1934359, 'exercised_stock_options': 1297049, 'bonus': 450000, 'restricted_stock': 13847074, 'shared_receipt_with_poi': 'NaN', 'restricted_stock_deferred': 'NaN', 'total_stock_value': 15144123, 'expenses': 81353, 'loan_advances': 'NaN', 'from_messages': 'NaN', 'other': 1085463, 'from_this_person_to_poi': 'NaN', 'poi': False, 'director_fees': 'NaN', 'deferred_income': 'NaN', 'long_term_incentive': 'NaN', 'email_address': 'thomas.white@enron.com', 'from_poi_to_this_person': 'NaN'}, 'CHRISTODOULOU DIOMEDES': {'salary': 'NaN', 'to_messages': 'NaN', 'deferral_payments': 'NaN', 'total_payments': 'NaN', 'exercised_stock_options': 5127155, 'bonus': 'NaN', 'restricted_stock': 950730, 'shared_receipt_with_poi': 'NaN', 'restricted_stock_deferred': 'NaN', 'total_stock_value': 6077885, 'expenses': 'NaN', 'loan_advances': 'NaN', 'from_messages': 'NaN', 'other': 'NaN', 'from_this_person_to_poi': 'NaN', 'poi': False, 'director_fees': 'NaN', 'deferred_income': 'NaN', 'long_term_incentive': 'NaN', 'email_address': 'diomedes.christodoulou@enron.com', 'from_poi_to_this_person': 'NaN'}, 'ALLEN PHILLIP K': {'salary': 201955, 'to_messages': 2902, 'deferral_payments': 2869717, 'total_payments': 4484442, 'exercised_stock_options': 1729541, 'bonus': 4175000, 'restricted_stock': 126027, 'shared_receipt_with_poi': 1407, 'restricted_stock_deferred': -126027, 'total_stock_value': 1729541, 'expenses': 13868, 'loan_advances': 'NaN', 'from_messages': 2195, 'other': 152, 'from_this_person_to_poi': 65, 'poi': False, 'director_fees': 'NaN', 'deferred_income': -3081055, 'long_term_incentive': 304805, 'email_address': 'phillip.allen@enron.com', 'from_poi_to_this_person': 47}, 'SHARP VICTORIA T': {'salary': 248146, 'to_messages': 3136, 'deferral_payments': 187469, 'total_payments': 1576511, 'exercised_stock_options': 281073, 'bonus': 600000, 'restricted_stock': 213063, 'shared_receipt_with_poi': 2477, 'restricted_stock_deferred': 'NaN', 'total_stock_value': 494136, 'expenses': 116337, 'loan_advances': 'NaN', 'from_messages': 136, 'other': 2401, 'from_this_person_to_poi': 6, 'poi': False, 'director_fees': 'NaN', 'deferred_income': 'NaN', 'long_term_incentive': 422158, 'email_address': 'vicki.sharp@enron.com', 'from_poi_to_this_person': 24}, 'JAEDICKE ROBERT': {'salary': 'NaN', 'to_messages': 'NaN', 'deferral_payments': 'NaN', 'total_payments': 83750, 'exercised_stock_options': 431750, 'bonus': 'NaN', 'restricted_stock': 44093, 'shared_receipt_with_poi': 'NaN', 'restricted_stock_deferred': -44093, 'total_stock_value': 431750, 'expenses': 'NaN', 'loan_advances': 'NaN', 'from_messages': 'NaN', 'other': 'NaN', 'from_this_person_to_poi': 'NaN', 'poi': False, 'director_fees': 108750, 'deferred_income': -25000, 'long_term_incentive': 'NaN', 'email_address': 'NaN', 'from_poi_to_this_person': 'NaN'}, 'WINOKUR JR. HERBERT S': {'salary': 'NaN', 'to_messages': 'NaN', 'deferral_payments': 'NaN', 'total_payments': 84992, 'exercised_stock_options': 'NaN', 'bonus': 'NaN', 'restricted_stock': 'NaN', 'shared_receipt_with_poi': 'NaN', 'restricted_stock_deferred': 'NaN', 'total_stock_value': 'NaN', 'expenses': 1413, 'loan_advances': 'NaN', 'from_messages': 'NaN', 'other': 'NaN', 'from_this_person_to_poi': 'NaN', 'poi': False, 'director_fees': 108579, 'deferred_income': -25000, 'long_term_incentive': 'NaN', 'email_address': 'NaN', 'from_poi_to_this_person': 'NaN'}, 'BROWN MICHAEL': {'salary': 'NaN', 'to_messages': 1486, 'deferral_payments': 'NaN', 'total_payments': 49288, 'exercised_stock_options': 'NaN', 'bonus': 'NaN', 'restricted_stock': 'NaN', 'shared_receipt_with_poi': 761, 'restricted_stock_deferred': 'NaN', 'total_stock_value': 'NaN', 'expenses': 49288, 'loan_advances': 'NaN', 'from_messages': 41, 'other': 'NaN', 'from_this_person_to_poi': 1, 'poi': False, 'director_fees': 'NaN', 'deferred_income': 'NaN', 'long_term_incentive': 'NaN', 'email_address': 'michael.brown@enron.com', 'from_poi_to_this_person': 13}, 'BADUM JAMES P': {'salary': 'NaN', 'to_messages': 'NaN', 'deferral_payments': 178980, 'total_payments': 182466, 'exercised_stock_options': 257817, 'bonus': 'NaN', 'restricted_stock': 'NaN', 'shared_receipt_with_poi': 'NaN', 'restricted_stock_deferred': 'NaN', 'total_stock_value': 257817, 'expenses': 3486, 'loan_advances': 'NaN', 'from_messages': 'NaN', 'other': 'NaN', 'from_this_person_to_poi': 'NaN', 'poi': False, 'director_fees': 'NaN', 'deferred_income': 'NaN', 'long_term_incentive': 'NaN', 'email_address': 'NaN', 'from_poi_to_this_person': 'NaN'}, 'HUGHES JAMES A': {'salary': 'NaN', 'to_messages': 719, 'deferral_payments': 'NaN', 'total_payments': 'NaN', 'exercised_stock_options': 754966, 'bonus': 'NaN', 'restricted_stock': 363428, 'shared_receipt_with_poi': 589, 'restricted_stock_deferred': 'NaN', 'total_stock_value': 1118394, 'expenses': 'NaN', 'loan_advances': 'NaN', 'from_messages': 34, 'other': 'NaN', 'from_this_person_to_poi': 5, 'poi': False, 'director_fees': 'NaN', 'deferred_income': 'NaN', 'long_term_incentive': 'NaN', 'email_address': 'james.hughes@enron.com', 'from_poi_to_this_person': 35}, 'REYNOLDS LAWRENCE': {'salary': 76399, 'to_messages': 'NaN', 'deferral_payments': 51365, 'total_payments': 394475, 'exercised_stock_options': 4160672, 'bonus': 100000, 'restricted_stock': 201483, 'shared_receipt_with_poi': 'NaN', 'restricted_stock_deferred': -140264, 'total_stock_value': 4221891, 'expenses': 8409, 'loan_advances': 'NaN', 'from_messages': 'NaN', 'other': 202052, 'from_this_person_to_poi': 'NaN', 'poi': False, 'director_fees': 'NaN', 'deferred_income': -200000, 'long_term_incentive': 156250, 'email_address': 'NaN', 'from_poi_to_this_person': 'NaN'}, 'DIMICHELE RICHARD G': {'salary': 262788, 'to_messages': 'NaN', 'deferral_payments': 'NaN', 'total_payments': 2368151, 'exercised_stock_options': 8191755, 'bonus': 1000000, 'restricted_stock': 126027, 'shared_receipt_with_poi': 'NaN', 'restricted_stock_deferred': 'NaN', 'total_stock_value': 8317782, 'expenses': 35812, 'loan_advances': 'NaN', 'from_messages': 'NaN', 'other': 374689, 'from_this_person_to_poi': 'NaN', 'poi': False, 'director_fees': 'NaN', 'deferred_income': 'NaN', 'long_term_incentive': 694862, 'email_address': 'richard.dimichele@enron.com', 'from_poi_to_this_person': 'NaN'}, 'BHATNAGAR SANJAY': {'salary': 'NaN', 'to_messages': 523, 'deferral_payments': 'NaN', 'total_payments': 15456290, 'exercised_stock_options': 2604490, 'bonus': 'NaN', 'restricted_stock': -2604490, 'shared_receipt_with_poi': 463, 'restricted_stock_deferred': 15456290, 'total_stock_value': 'NaN', 'expenses': 'NaN', 'loan_advances': 'NaN', 'from_messages': 29, 'other': 137864, 'from_this_person_to_poi': 1, 'poi': False, 'director_fees': 137864, 'deferred_income': 'NaN', 'long_term_incentive': 'NaN', 'email_address': 'sanjay.bhatnagar@enron.com', 'from_poi_to_this_person': 0}, 'CARTER REBECCA C': {'salary': 261809, 'to_messages': 312, 'deferral_payments': 'NaN', 'total_payments': 477557, 'exercised_stock_options': 'NaN', 'bonus': 300000, 'restricted_stock': 307301, 'shared_receipt_with_poi': 196, 'restricted_stock_deferred': -307301, 'total_stock_value': 'NaN', 'expenses': 'NaN', 'loan_advances': 'NaN', 'from_messages': 15, 'other': 540, 'from_this_person_to_poi': 7, 'poi': False, 'director_fees': 'NaN', 'deferred_income': -159792, 'long_term_incentive': 75000, 'email_address': 'rebecca.carter@enron.com', 'from_poi_to_this_person': 29}, 'BUCHANAN HAROLD G': {'salary': 248017, 'to_messages': 1088, 'deferral_payments': 'NaN', 'total_payments': 1054637, 'exercised_stock_options': 825464, 'bonus': 500000, 'restricted_stock': 189041, 'shared_receipt_with_poi': 23, 'restricted_stock_deferred': 'NaN', 'total_stock_value': 1014505, 'expenses': 600, 'loan_advances': 'NaN', 'from_messages': 125, 'other': 1215, 'from_this_person_to_poi': 0, 'poi': False, 'director_fees': 'NaN', 'deferred_income': 'NaN', 'long_term_incentive': 304805, 'email_address': 'john.buchanan@enron.com', 'from_poi_to_this_person': 0}, 'YEAP SOON': {'salary': 'NaN', 'to_messages': 'NaN', 'deferral_payments': 'NaN', 'total_payments': 55097, 'exercised_stock_options': 192758, 'bonus': 'NaN', 'restricted_stock': 'NaN', 'shared_receipt_with_poi': 'NaN', 'restricted_stock_deferred': 'NaN', 'total_stock_value': 192758, 'expenses': 55097, 'loan_advances': 'NaN', 'from_messages': 'NaN', 'other': 'NaN', 'from_this_person_to_poi': 'NaN', 'poi': False, 'director_fees': 'NaN', 'deferred_income': 'NaN', 'long_term_incentive': 'NaN', 'email_address': 'NaN', 'from_poi_to_this_person': 'NaN'}, 'MURRAY JULIA H': {'salary': 229284, 'to_messages': 2192, 'deferral_payments': 'NaN', 'total_payments': 812194, 'exercised_stock_options': 400478, 'bonus': 400000, 'restricted_stock': 196983, 'shared_receipt_with_poi': 395, 'restricted_stock_deferred': 'NaN', 'total_stock_value': 597461, 'expenses': 57580, 'loan_advances': 'NaN', 'from_messages': 45, 'other': 330, 'from_this_person_to_poi': 2, 'poi': False, 'director_fees': 'NaN', 'deferred_income': 'NaN', 'long_term_incentive': 125000, 'email_address': 'julia.murray@enron.com', 'from_poi_to_this_person': 11}, 'GARLAND C KEVIN': {'salary': 231946, 'to_messages': 209, 'deferral_payments': 'NaN', 'total_payments': 1566469, 'exercised_stock_options': 636246, 'bonus': 850000, 'restricted_stock': 259907, 'shared_receipt_with_poi': 178, 'restricted_stock_deferred': 'NaN', 'total_stock_value': 896153, 'expenses': 48405, 'loan_advances': 'NaN', 'from_messages': 44, 'other': 60814, 'from_this_person_to_poi': 27, 'poi': False, 'director_fees': 'NaN', 'deferred_income': 'NaN', 'long_term_incentive': 375304, 'email_address': 'kevin.garland@enron.com', 'from_poi_to_this_person': 10}, 'DODSON KEITH': {'salary': 221003, 'to_messages': 176, 'deferral_payments': 'NaN', 'total_payments': 319941, 'exercised_stock_options': 'NaN', 'bonus': 70000, 'restricted_stock': 'NaN', 'shared_receipt_with_poi': 114, 'restricted_stock_deferred': 'NaN', 'total_stock_value': 'NaN', 'expenses': 28164, 'loan_advances': 'NaN', 'from_messages': 14, 'other': 774, 'from_this_person_to_poi': 3, 'poi': False, 'director_fees': 'NaN', 'deferred_income': 'NaN', 'long_term_incentive': 'NaN', 'email_address': 'keith.dodson@enron.com', 'from_poi_to_this_person': 10}, 'YEAGER F SCOTT': {'salary': 158403, 'to_messages': 'NaN', 'deferral_payments': 'NaN', 'total_payments': 360300, 'exercised_stock_options': 8308552, 'bonus': 'NaN', 'restricted_stock': 3576206, 'shared_receipt_with_poi': 'NaN', 'restricted_stock_deferred': 'NaN', 'total_stock_value': 11884758, 'expenses': 53947, 'loan_advances': 'NaN', 'from_messages': 'NaN', 'other': 147950, 'from_this_person_to_poi': 'NaN', 'poi': True, 'director_fees': 'NaN', 'deferred_income': 'NaN', 'long_term_incentive': 'NaN', 'email_address': 'scott.yeager@enron.com', 'from_poi_to_this_person': 'NaN'}, 'HIRKO JOSEPH': {'salary': 'NaN', 'to_messages': 'NaN', 'deferral_payments': 10259, 'total_payments': 91093, 'exercised_stock_options': 30766064, 'bonus': 'NaN', 'restricted_stock': 'NaN', 'shared_receipt_with_poi': 'NaN', 'restricted_stock_deferred': 'NaN', 'total_stock_value': 30766064, 'expenses': 77978, 'loan_advances': 'NaN', 'from_messages': 'NaN', 'other': 2856, 'from_this_person_to_poi': 'NaN', 'poi': True, 'director_fees': 'NaN', 'deferred_income': 'NaN', 'long_term_incentive': 'NaN', 'email_address': 'joe.hirko@enron.com', 'from_poi_to_this_person': 'NaN'}, 'DIETRICH JANET R': {'salary': 250100, 'to_messages': 2572, 'deferral_payments': 'NaN', 'total_payments': 1410464, 'exercised_stock_options': 1550019, 'bonus': 600000, 'restricted_stock': 315068, 'shared_receipt_with_poi': 1902, 'restricted_stock_deferred': 'NaN', 'total_stock_value': 1865087, 'expenses': 3475, 'loan_advances': 'NaN', 'from_messages': 63, 'other': 473, 'from_this_person_to_poi': 14, 'poi': False, 'director_fees': 'NaN', 'deferred_income': 'NaN', 'long_term_incentive': 556416, 'email_address': 'janet.dietrich@enron.com', 'from_poi_to_this_person': 305}, 'DERRICK JR. JAMES V': {'salary': 492375, 'to_messages': 2181, 'deferral_payments': 'NaN', 'total_payments': 550981, 'exercised_stock_options': 8831913, 'bonus': 800000, 'restricted_stock': 1787380, 'shared_receipt_with_poi': 1401, 'restricted_stock_deferred': -1787380, 'total_stock_value': 8831913, 'expenses': 51124, 'loan_advances': 'NaN', 'from_messages': 909, 'other': 7482, 'from_this_person_to_poi': 20, 'poi': False, 'director_fees': 'NaN', 'deferred_income': -1284000, 'long_term_incentive': 484000, 'email_address': 'james.derrick@enron.com', 'from_poi_to_this_person': 64}, 'FREVERT MARK A': {'salary': 1060932, 'to_messages': 3275, 'deferral_payments': 6426990, 'total_payments': 17252530, 'exercised_stock_options': 10433518, 'bonus': 2000000, 'restricted_stock': 4188667, 'shared_receipt_with_poi': 2979, 'restricted_stock_deferred': 'NaN', 'total_stock_value': 14622185, 'expenses': 86987, 'loan_advances': 2000000, 'from_messages': 21, 'other': 7427621, 'from_this_person_to_poi': 6, 'poi': False, 'director_fees': 'NaN', 'deferred_income': -3367011, 'long_term_incentive': 1617011, 'email_address': 'mark.frevert@enron.com', 'from_poi_to_this_person': 242}, 'PAI LOU L': {'salary': 261879, 'to_messages': 'NaN', 'deferral_payments': 'NaN', 'total_payments': 3123383, 'exercised_stock_options': 15364167, 'bonus': 1000000, 'restricted_stock': 8453763, 'shared_receipt_with_poi': 'NaN', 'restricted_stock_deferred': 'NaN', 'total_stock_value': 23817930, 'expenses': 32047, 'loan_advances': 'NaN', 'from_messages': 'NaN', 'other': 1829457, 'from_this_person_to_poi': 'NaN', 'poi': False, 'director_fees': 'NaN', 'deferred_income': 'NaN', 'long_term_incentive': 'NaN', 'email_address': 'lou.pai@enron.com', 'from_poi_to_this_person': 'NaN'}, 'BAY FRANKLIN R': {'salary': 239671, 'to_messages': 'NaN', 'deferral_payments': 260455, 'total_payments': 827696, 'exercised_stock_options': 'NaN', 'bonus': 400000, 'restricted_stock': 145796, 'shared_receipt_with_poi': 'NaN', 'restricted_stock_deferred': -82782, 'total_stock_value': 63014, 'expenses': 129142, 'loan_advances': 'NaN', 'from_messages': 'NaN', 'other': 69, 'from_this_person_to_poi': 'NaN', 'poi': False, 'director_fees': 'NaN', 'deferred_income': -201641, 'long_term_incentive': 'NaN', 'email_address': 'frank.bay@enron.com', 'from_poi_to_this_person': 'NaN'}, 'HAYSLETT RODERICK J': {'salary': 'NaN', 'to_messages': 2649, 'deferral_payments': 'NaN', 'total_payments': 'NaN', 'exercised_stock_options': 'NaN', 'bonus': 'NaN', 'restricted_stock': 346663, 'shared_receipt_with_poi': 571, 'restricted_stock_deferred': 'NaN', 'total_stock_value': 346663, 'expenses': 'NaN', 'loan_advances': 'NaN', 'from_messages': 1061, 'other': 'NaN', 'from_this_person_to_poi': 38, 'poi': False, 'director_fees': 'NaN', 'deferred_income': 'NaN', 'long_term_incentive': 'NaN', 'email_address': 'rod.hayslett@enron.com', 'from_poi_to_this_person': 35}, 'FUGH JOHN L': {'salary': 'NaN', 'to_messages': 'NaN', 'deferral_payments': 50591, 'total_payments': 50591, 'exercised_stock_options': 176378, 'bonus': 'NaN', 'restricted_stock': 'NaN', 'shared_receipt_with_poi': 'NaN', 'restricted_stock_deferred': 'NaN', 'total_stock_value': 176378, 'expenses': 'NaN', 'loan_advances': 'NaN', 'from_messages': 'NaN', 'other': 'NaN', 'from_this_person_to_poi': 'NaN', 'poi': False, 'director_fees': 'NaN', 'deferred_income': 'NaN', 'long_term_incentive': 'NaN', 'email_address': 'NaN', 'from_poi_to_this_person': 'NaN'}, 'FALLON JAMES B': {'salary': 304588, 'to_messages': 1755, 'deferral_payments': 'NaN', 'total_payments': 3676340, 'exercised_stock_options': 940257, 'bonus': 2500000, 'restricted_stock': 1392142, 'shared_receipt_with_poi': 1604, 'restricted_stock_deferred': 'NaN', 'total_stock_value': 2332399, 'expenses': 95924, 'loan_advances': 'NaN', 'from_messages': 75, 'other': 401481, 'from_this_person_to_poi': 37, 'poi': False, 'director_fees': 'NaN', 'deferred_income': 'NaN', 'long_term_incentive': 374347, 'email_address': 'jim.fallon@enron.com', 'from_poi_to_this_person': 42}, 'KOENIG MARK E': {'salary': 309946, 'to_messages': 2374, 'deferral_payments': 'NaN', 'total_payments': 1587421, 'exercised_stock_options': 671737, 'bonus': 700000, 'restricted_stock': 1248318, 'shared_receipt_with_poi': 2271, 'restricted_stock_deferred': 'NaN', 'total_stock_value': 1920055, 'expenses': 127017, 'loan_advances': 'NaN', 'from_messages': 61, 'other': 150458, 'from_this_person_to_poi': 15, 'poi': True, 'director_fees': 'NaN', 'deferred_income': 'NaN', 'long_term_incentive': 300000, 'email_address': 'mark.koenig@enron.com', 'from_poi_to_this_person': 53}, 'SAVAGE FRANK': {'salary': 'NaN', 'to_messages': 'NaN', 'deferral_payments': 'NaN', 'total_payments': 3750, 'exercised_stock_options': 'NaN', 'bonus': 'NaN', 'restricted_stock': 'NaN', 'shared_receipt_with_poi': 'NaN', 'restricted_stock_deferred': 'NaN', 'total_stock_value': 'NaN', 'expenses': 'NaN', 'loan_advances': 'NaN', 'from_messages': 'NaN', 'other': 'NaN', 'from_this_person_to_poi': 'NaN', 'poi': False, 'director_fees': 125034, 'deferred_income': -121284, 'long_term_incentive': 'NaN', 'email_address': 'NaN', 'from_poi_to_this_person': 'NaN'}, 'IZZO LAWRENCE L': {'salary': 85274, 'to_messages': 496, 'deferral_payments': 'NaN', 'total_payments': 1979596, 'exercised_stock_options': 2165172, 'bonus': 'NaN', 'restricted_stock': 3654808, 'shared_receipt_with_poi': 437, 'restricted_stock_deferred': 'NaN', 'total_stock_value': 5819980, 'expenses': 28093, 'loan_advances': 'NaN', 'from_messages': 19, 'other': 1553729, 'from_this_person_to_poi': 5, 'poi': False, 'director_fees': 'NaN', 'deferred_income': 'NaN', 'long_term_incentive': 312500, 'email_address': 'larry.izzo@enron.com', 'from_poi_to_this_person': 28}, 'TILNEY ELIZABETH A': {'salary': 247338, 'to_messages': 460, 'deferral_payments': 'NaN', 'total_payments': 399393, 'exercised_stock_options': 591250, 'bonus': 300000, 'restricted_stock': 576792, 'shared_receipt_with_poi': 379, 'restricted_stock_deferred': 'NaN', 'total_stock_value': 1168042, 'expenses': 'NaN', 'loan_advances': 'NaN', 'from_messages': 19, 'other': 152055, 'from_this_person_to_poi': 11, 'poi': False, 'director_fees': 'NaN', 'deferred_income': -575000, 'long_term_incentive': 275000, 'email_address': 'elizabeth.tilney@enron.com', 'from_poi_to_this_person': 10}, 'MARTIN AMANDA K': {'salary': 349487, 'to_messages': 1522, 'deferral_payments': 85430, 'total_payments': 8407016, 'exercised_stock_options': 2070306, 'bonus': 'NaN', 'restricted_stock': 'NaN', 'shared_receipt_with_poi': 477, 'restricted_stock_deferred': 'NaN', 'total_stock_value': 2070306, 'expenses': 8211, 'loan_advances': 'NaN', 'from_messages': 230, 'other': 2818454, 'from_this_person_to_poi': 0, 'poi': False, 'director_fees': 'NaN', 'deferred_income': 'NaN', 'long_term_incentive': 5145434, 'email_address': 'a..martin@enron.com', 'from_poi_to_this_person': 8}, 'BUY RICHARD B': {'salary': 330546, 'to_messages': 3523, 'deferral_payments': 649584, 'total_payments': 2355702, 'exercised_stock_options': 2542813, 'bonus': 900000, 'restricted_stock': 901657, 'shared_receipt_with_poi': 2333, 'restricted_stock_deferred': 'NaN', 'total_stock_value': 3444470, 'expenses': 'NaN', 'loan_advances': 'NaN', 'from_messages': 1053, 'other': 400572, 'from_this_person_to_poi': 71, 'poi': False, 'director_fees': 'NaN', 'deferred_income': -694862, 'long_term_incentive': 769862, 'email_address': 'rick.buy@enron.com', 'from_poi_to_this_person': 156}, 'GRAMM WENDY L': {'salary': 'NaN', 'to_messages': 'NaN', 'deferral_payments': 'NaN', 'total_payments': 119292, 'exercised_stock_options': 'NaN', 'bonus': 'NaN', 'restricted_stock': 'NaN', 'shared_receipt_with_poi': 'NaN', 'restricted_stock_deferred': 'NaN', 'total_stock_value': 'NaN', 'expenses': 'NaN', 'loan_advances': 'NaN', 'from_messages': 'NaN', 'other': 'NaN', 'from_this_person_to_poi': 'NaN', 'poi': False, 'director_fees': 119292, 'deferred_income': 'NaN', 'long_term_incentive': 'NaN', 'email_address': 'NaN', 'from_poi_to_this_person': 'NaN'}, 'CAUSEY RICHARD A': {'salary': 415189, 'to_messages': 1892, 'deferral_payments': 'NaN', 'total_payments': 1868758, 'exercised_stock_options': 'NaN', 'bonus': 1000000, 'restricted_stock': 2502063, 'shared_receipt_with_poi': 1585, 'restricted_stock_deferred': 'NaN', 'total_stock_value': 2502063, 'expenses': 30674, 'loan_advances': 'NaN', 'from_messages': 49, 'other': 307895, 'from_this_person_to_poi': 12, 'poi': True, 'director_fees': 'NaN', 'deferred_income': -235000, 'long_term_incentive': 350000, 'email_address': 'richard.causey@enron.com', 'from_poi_to_this_person': 58}, 'TAYLOR MITCHELL S': {'salary': 265214, 'to_messages': 533, 'deferral_payments': 227449, 'total_payments': 1092663, 'exercised_stock_options': 3181250, 'bonus': 600000, 'restricted_stock': 563798, 'shared_receipt_with_poi': 300, 'restricted_stock_deferred': 'NaN', 'total_stock_value': 3745048, 'expenses': 'NaN', 'loan_advances': 'NaN', 'from_messages': 29, 'other': 'NaN', 'from_this_person_to_poi': 0, 'poi': False, 'director_fees': 'NaN', 'deferred_income': 'NaN', 'long_term_incentive': 'NaN', 'email_address': 'mitchell.taylor@enron.com', 'from_poi_to_this_person': 0}, 'DONAHUE JR JEFFREY M': {'salary': 278601, 'to_messages': 865, 'deferral_payments': 'NaN', 'total_payments': 875760, 'exercised_stock_options': 765920, 'bonus': 800000, 'restricted_stock': 315068, 'shared_receipt_with_poi': 772, 'restricted_stock_deferred': 'NaN', 'total_stock_value': 1080988, 'expenses': 96268, 'loan_advances': 'NaN', 'from_messages': 22, 'other': 891, 'from_this_person_to_poi': 11, 'poi': False, 'director_fees': 'NaN', 'deferred_income': -300000, 'long_term_incentive': 'NaN', 'email_address': 'jeff.donahue@enron.com', 'from_poi_to_this_person': 188}, 'GLISAN JR BEN F': {'salary': 274975, 'to_messages': 873, 'deferral_payments': 'NaN', 'total_payments': 1272284, 'exercised_stock_options': 384728, 'bonus': 600000, 'restricted_stock': 393818, 'shared_receipt_with_poi': 874, 'restricted_stock_deferred': 'NaN', 'total_stock_value': 778546, 'expenses': 125978, 'loan_advances': 'NaN', 'from_messages': 16, 'other': 200308, 'from_this_person_to_poi': 6, 'poi': True, 'director_fees': 'NaN', 'deferred_income': 'NaN', 'long_term_incentive': 71023, 'email_address': 'ben.glisan@enron.com', 'from_poi_to_this_person': 52}}\n"
     ]
    }
   ],
   "source": [
    "features = ['salary', 'bonus']\n",
    "data_dict.pop('TOTAL', 0)\n",
    "print data_dict\n",
    "data = featureFormat(data_dict, features)\n",
    "#print data"
   ]
  },
  {
   "cell_type": "code",
   "execution_count": 10,
   "metadata": {
    "collapsed": false
   },
   "outputs": [
    {
     "name": "stdout",
     "output_type": "stream",
     "text": [
      "[('SKILLING JEFFREY K', 1111258), ('LAY KENNETH L', 1072321), ('FREVERT MARK A', 1060932), ('PICKERING MARK R', 655037)]\n"
     ]
    }
   ],
   "source": [
    "outliers = []\n",
    "\n",
    "for key in data_dict:\n",
    "    val = data_dict[key]['salary']\n",
    "    if val == 'NaN':\n",
    "        continue\n",
    "    outliers.append((key, int(val)))\n",
    "    \n",
    "outliers_final = (sorted(outliers, key = lambda x:x[1], reverse = True)[:4])\n",
    "print outliers_final"
   ]
  },
  {
   "cell_type": "code",
   "execution_count": 11,
   "metadata": {
    "collapsed": false
   },
   "outputs": [
    {
     "data": {
      "image/png": "[encoded data removed]",
      "text/plain": [
       "<matplotlib.figure.Figure at 0x10bc036d0>"
      ]
     },
     "metadata": {},
     "output_type": "display_data"
    }
   ],
   "source": [
    "for point in data:\n",
    "    salary = point[0]\n",
    "    bonus = point[1]\n",
    "    plt.scatter(salary, bonus)\n",
    "    \n",
    "plt.xlabel(\"salary\")\n",
    "plt.ylabel(\"bonus\")\n",
    "plt.show()"
   ]
  },
  {
   "cell_type": "markdown",
   "metadata": {},
   "source": [
    "# Feature Processing"
   ]
  },
  {
   "cell_type": "code",
   "execution_count": 12,
   "metadata": {
    "collapsed": false
   },
   "outputs": [],
   "source": [
    "def dict_to_list(key, normalizer):\n",
    "    new_list = []\n",
    "    \n",
    "    for i in data_dict:\n",
    "       \n",
    "        if data_dict[i][key] == 'NaN' or data_dict[i][normalizer] == 'NaN':\n",
    "            new_list.append(0.)\n",
    "        \n",
    "        elif data_dict[i][key] >=0:\n",
    "            new_list.append(float(data_dict[i][key]) / float(data_dict[i][normalizer]))\n",
    "        \n",
    "        print data_dict[i][key]\n",
    "\n",
    "    return new_list\n",
    "\n",
    "    \n",
    "    \n"
   ]
  },
  {
   "cell_type": "code",
   "execution_count": 13,
   "metadata": {
    "collapsed": false
   },
   "outputs": [
    {
     "name": "stdout",
     "output_type": "stream",
     "text": [
      "38\n",
      "NaN\n",
      "NaN\n",
      "10\n",
      "32\n",
      "NaN\n",
      "0\n",
      "58\n",
      "44\n",
      "61\n",
      "10\n",
      "12\n",
      "25\n",
      "37\n",
      "0\n",
      "NaN\n",
      "240\n",
      "12\n",
      "25\n",
      "NaN\n",
      "NaN\n",
      "17\n",
      "251\n",
      "NaN\n",
      "NaN\n",
      "94\n",
      "NaN\n",
      "4\n",
      "NaN\n",
      "23\n",
      "35\n",
      "NaN\n",
      "144\n",
      "4\n",
      "NaN\n",
      "NaN\n",
      "40\n",
      "NaN\n",
      "10\n",
      "16\n",
      "25\n",
      "NaN\n",
      "67\n",
      "528\n",
      "NaN\n",
      "NaN\n",
      "NaN\n",
      "0\n",
      "NaN\n",
      "39\n",
      "NaN\n",
      "74\n",
      "28\n",
      "13\n",
      "NaN\n",
      "115\n",
      "NaN\n",
      "186\n",
      "92\n",
      "0\n",
      "66\n",
      "NaN\n",
      "NaN\n",
      "NaN\n",
      "NaN\n",
      "123\n",
      "NaN\n",
      "20\n",
      "54\n",
      "NaN\n",
      "NaN\n",
      "52\n",
      "NaN\n",
      "NaN\n",
      "NaN\n",
      "180\n",
      "140\n",
      "NaN\n",
      "1\n",
      "0\n",
      "204\n",
      "NaN\n",
      "228\n",
      "106\n",
      "0\n",
      "NaN\n",
      "0\n",
      "199\n",
      "42\n",
      "41\n",
      "NaN\n",
      "0\n",
      "NaN\n",
      "NaN\n",
      "NaN\n",
      "88\n",
      "NaN\n",
      "39\n",
      "NaN\n",
      "NaN\n",
      "7\n",
      "NaN\n",
      "NaN\n",
      "140\n",
      "0\n",
      "22\n",
      "NaN\n",
      "NaN\n",
      "47\n",
      "24\n",
      "NaN\n",
      "NaN\n",
      "13\n",
      "NaN\n",
      "35\n",
      "NaN\n",
      "NaN\n",
      "0\n",
      "29\n",
      "0\n",
      "NaN\n",
      "11\n",
      "10\n",
      "10\n",
      "NaN\n",
      "NaN\n",
      "305\n",
      "64\n",
      "242\n",
      "NaN\n",
      "NaN\n",
      "35\n",
      "NaN\n",
      "42\n",
      "53\n",
      "NaN\n",
      "28\n",
      "10\n",
      "8\n",
      "156\n",
      "NaN\n",
      "58\n",
      "0\n",
      "188\n",
      "52\n",
      "1\n",
      "NaN\n",
      "NaN\n",
      "0\n",
      "21\n",
      "NaN\n",
      "0\n",
      "26\n",
      "15\n",
      "48\n",
      "17\n",
      "0\n",
      "2\n",
      "13\n",
      "0\n",
      "NaN\n",
      "11\n",
      "0\n",
      "19\n",
      "NaN\n",
      "NaN\n",
      "0\n",
      "194\n",
      "NaN\n",
      "NaN\n",
      "83\n",
      "NaN\n",
      "0\n",
      "NaN\n",
      "8\n",
      "48\n",
      "NaN\n",
      "386\n",
      "7\n",
      "NaN\n",
      "NaN\n",
      "1\n",
      "NaN\n",
      "0\n",
      "0\n",
      "2\n",
      "NaN\n",
      "14\n",
      "411\n",
      "NaN\n",
      "NaN\n",
      "NaN\n",
      "0\n",
      "NaN\n",
      "0\n",
      "NaN\n",
      "65\n",
      "23\n",
      "14\n",
      "NaN\n",
      "4\n",
      "NaN\n",
      "24\n",
      "194\n",
      "1\n",
      "609\n",
      "NaN\n",
      "NaN\n",
      "NaN\n",
      "NaN\n",
      "16\n",
      "NaN\n",
      "15\n",
      "1\n",
      "NaN\n",
      "NaN\n",
      "0\n",
      "NaN\n",
      "NaN\n",
      "NaN\n",
      "61\n",
      "15\n",
      "NaN\n",
      "8\n",
      "0\n",
      "49\n",
      "NaN\n",
      "108\n",
      "3\n",
      "0\n",
      "NaN\n",
      "0\n",
      "25\n",
      "4\n",
      "171\n",
      "NaN\n",
      "4\n",
      "NaN\n",
      "NaN\n",
      "NaN\n",
      "30\n",
      "NaN\n",
      "18\n",
      "NaN\n",
      "NaN\n",
      "0\n",
      "NaN\n",
      "NaN\n",
      "387\n",
      "0\n",
      "7\n",
      "NaN\n",
      "NaN\n",
      "65\n",
      "6\n",
      "NaN\n",
      "NaN\n",
      "1\n",
      "NaN\n",
      "5\n",
      "NaN\n",
      "NaN\n",
      "1\n",
      "7\n",
      "0\n",
      "NaN\n",
      "2\n",
      "27\n",
      "3\n",
      "NaN\n",
      "NaN\n",
      "14\n",
      "20\n",
      "6\n",
      "NaN\n",
      "NaN\n",
      "38\n",
      "NaN\n",
      "37\n",
      "15\n",
      "NaN\n",
      "5\n",
      "11\n",
      "0\n",
      "71\n",
      "NaN\n",
      "12\n",
      "0\n",
      "11\n",
      "6\n"
     ]
    },
    {
     "data": {
      "image/png": "[encoded data removed]",
      "text/plain": [
       "<matplotlib.figure.Figure at 0x10b91b750>"
      ]
     },
     "metadata": {},
     "output_type": "display_data"
    }
   ],
   "source": [
    "### create two lists of new features\n",
    "fraction_from_poi_email=dict_to_list(\"from_poi_to_this_person\",\"to_messages\")\n",
    "fraction_to_poi_email=dict_to_list(\"from_this_person_to_poi\",\"from_messages\")\n",
    "\n",
    "### insert new features into data_dict\n",
    "count=0\n",
    "for i in data_dict:\n",
    "    data_dict[i][\"fraction_from_poi_email\"]=fraction_from_poi_email[count]\n",
    "    data_dict[i][\"fraction_to_poi_email\"]=fraction_to_poi_email[count]\n",
    "    count +=1\n",
    "\n",
    "    \n",
    "features_list = [\"poi\", \"fraction_from_poi_email\", \"fraction_to_poi_email\"]    \n",
    "    ### store to my_dataset for easy export below\n",
    "my_dataset = data_dict\n",
    "\n",
    "\n",
    "### these two lines extract the features specified in features_list\n",
    "### and extract them from data_dict, returning a numpy array\n",
    "data = featureFormat(my_dataset, features_list)\n",
    "\n",
    "### plot new features\n",
    "for point in data:\n",
    "    from_poi = point[1]\n",
    "    to_poi = point[2]\n",
    "    plt.scatter( from_poi, to_poi )\n",
    "    if point[0] == 1:\n",
    "        plt.scatter(from_poi, to_poi, color=\"r\", marker=\"*\")\n",
    "plt.xlabel(\"fraction of emails this person gets from poi\")\n",
    "plt.show()"
   ]
  },
  {
   "cell_type": "code",
   "execution_count": 20,
   "metadata": {
    "collapsed": false
   },
   "outputs": [
    {
     "name": "stdout",
     "output_type": "stream",
     "text": [
      "accuracy 0.733333333333\n",
      "Decision tree algorithm time: 0.002 s\n",
      "Feature Ranking: \n",
      "1 feature salary (0.248851080523)\n",
      "2 feature bonus (0.158290984378)\n",
      "3 feature fraction_from_poi_email (0.14622972935)\n",
      "4 feature fraction_to_poi_email (0.14139568871)\n",
      "5 feature deferral_payments (0.118337314859)\n",
      "6 feature total_payments (0.0747826086957)\n",
      "7 feature loan_advances (0.0534161490683)\n",
      "8 feature restricted_stock_deferred (0.0377115287109)\n",
      "9 feature deferred_income (0.0209849157054)\n",
      "10 feature total_stock_value (0.0)\n",
      "11 feature expenses (0.0)\n",
      "12 feature exercised_stock_options (0.0)\n",
      "13 feature long_term_incentive (0.0)\n",
      "14 feature shared_receipt_with_poi (0.0)\n",
      "15 feature restricted_stock (0.0)\n",
      "16 feature director_fees (0.0)\n"
     ]
    }
   ],
   "source": [
    "features_list = [\"poi\", \"salary\", \"bonus\", \"fraction_from_poi_email\", \"fraction_to_poi_email\",\n",
    "                 'deferral_payments', 'total_payments', 'loan_advances', 'restricted_stock_deferred',\n",
    "                 'deferred_income', 'total_stock_value', 'expenses', 'exercised_stock_options',\n",
    "                 'long_term_incentive', 'shared_receipt_with_poi', 'restricted_stock', 'director_fees']\n",
    "data = featureFormat(my_dataset, features_list)\n",
    "\n",
    "### split into labels and features (this line assumes that the first\n",
    "### feature in the array is the label, which is why \"poi\" must always\n",
    "### be first in features_list\n",
    "labels, features = targetFeatureSplit(data)\n",
    "\n",
    "### split data into training and testing datasets\n",
    "from sklearn import cross_validation\n",
    "features_train, features_test, labels_train, labels_test = cross_validation.train_test_split(features, labels, test_size=0.1, random_state=42)\n",
    "\n",
    "\n",
    "\n",
    "\n",
    "from sklearn.tree import DecisionTreeClassifier\n",
    "\n",
    "t0 = time()\n",
    "\n",
    "clf = DecisionTreeClassifier()\n",
    "clf.fit(features_train,labels_train)\n",
    "score = clf.score(features_test,labels_test)\n",
    "pred= clf.predict(features_test)\n",
    "print 'accuracy', score\n",
    "\n",
    "print \"Decision tree algorithm time:\", round(time()-t0, 3), \"s\"\n",
    "\n",
    "\n",
    "\n",
    "importances = clf.feature_importances_\n",
    "import numpy as np\n",
    "indices = np.argsort(importances)[::-1]\n",
    "print 'Feature Ranking: '\n",
    "for i in range(16):\n",
    "    print \"{} feature {} ({})\".format(i+1,features_list[i+1],importances[indices[i]])"
   ]
  },
  {
   "cell_type": "markdown",
   "metadata": {},
   "source": [
    "# Algorithm Selection and Tuning¶\n"
   ]
  },
  {
   "cell_type": "code",
   "execution_count": 34,
   "metadata": {
    "collapsed": false
   },
   "outputs": [
    {
     "name": "stdout",
     "output_type": "stream",
     "text": [
      "0.892857142857\n",
      "NB algorithm time: 0.002 s\n"
     ]
    }
   ],
   "source": [
    "features_list = [\"poi\", \"fraction_from_poi_email\", \"fraction_to_poi_email\", \"shared_receipt_with_poi\"]\n",
    "\n",
    "### try Naive Bayes for prediction\n",
    "t0 = time()\n",
    "\n",
    "clf = GaussianNB()\n",
    "clf.fit(features_train, labels_train)\n",
    "pred = clf.predict(features_test)\n",
    "accuracy = accuracy_score(pred,labels_test)\n",
    "print accuracy\n",
    "\n",
    "print \"NB algorithm time:\", round(time()-t0, 3), \"s\""
   ]
  },
  {
   "cell_type": "markdown",
   "metadata": {},
   "source": [
    "# Analysis Validation and Performance¶\n"
   ]
  },
  {
   "cell_type": "code",
   "execution_count": 40,
   "metadata": {
    "collapsed": false
   },
   "outputs": [
    {
     "name": "stdout",
     "output_type": "stream",
     "text": [
      "accuracy before tuning  0.857142857143\n",
      "Decision tree algorithm time: 0.001 s\n",
      "done in 0.001s\n",
      "Validating algorithm:\n",
      "accuracy after tuning =  0.928571428571\n",
      "precision =  0.666666666667\n",
      "recall =  0.666666666667\n"
     ]
    }
   ],
   "source": [
    "### features_list is a list of strings, each of which is a feature name\n",
    "### first feature must be \"poi\", as this will be singled out as the label\n",
    "features_list = [\"poi\", \"fraction_from_poi_email\", \"fraction_to_poi_email\", 'shared_receipt_with_poi']\n",
    "\n",
    "\n",
    "### store to my_dataset for easy export below\n",
    "my_dataset = data_dict\n",
    "\n",
    "\n",
    "### these two lines extract the features specified in features_list\n",
    "### and extract them from data_dict, returning a numpy array\n",
    "data = featureFormat(my_dataset, features_list)\n",
    "\n",
    "\n",
    "### split into labels and features (this line assumes that the first\n",
    "### feature in the array is the label, which is why \"poi\" must always\n",
    "### be first in features_list\n",
    "labels, features = targetFeatureSplit(data)\n",
    "\n",
    "\n",
    "### machine learning goes here!\n",
    "### please name your classifier clf for easy export below\n",
    "\n",
    "### deploying feature selection\n",
    "from sklearn import cross_validation\n",
    "features_train, features_test, labels_train, labels_test = cross_validation.train_test_split(features, labels, test_size=0.1, random_state=42)\n",
    "\n",
    "### use KFold for split and validate algorithm\n",
    "from sklearn.cross_validation import KFold\n",
    "kf=KFold(len(labels),3)\n",
    "for train_indices, test_indices in kf:\n",
    "    #make training and testing sets\n",
    "    features_train= [features[ii] for ii in train_indices]\n",
    "    features_test= [features[ii] for ii in test_indices]\n",
    "    labels_train=[labels[ii] for ii in train_indices]\n",
    "    labels_test=[labels[ii] for ii in test_indices]\n",
    "\n",
    "from sklearn.tree import DecisionTreeClassifier\n",
    "\n",
    "t0 = time()\n",
    "\n",
    "clf = DecisionTreeClassifier()\n",
    "clf.fit(features_train,labels_train)\n",
    "score = clf.score(features_test,labels_test)\n",
    "print 'accuracy before tuning ', score\n",
    "\n",
    "print \"Decision tree algorithm time:\", round(time()-t0, 3), \"s\"\n",
    "\n",
    "\n",
    "### use manual tuning parameter min_samples_split\n",
    "t0 = time()\n",
    "clf = DecisionTreeClassifier(min_samples_split=5)\n",
    "clf = clf.fit(features_train,labels_train)\n",
    "pred= clf.predict(features_test)\n",
    "print(\"done in %0.3fs\" % (time() - t0))\n",
    "\n",
    "acc=accuracy_score(labels_test, pred)\n",
    "\n",
    "print \"Validating algorithm:\"\n",
    "print \"accuracy after tuning = \", acc\n",
    "\n",
    "# function for calculation ratio of true positives\n",
    "# out of all positives (true + false)\n",
    "print 'precision = ', precision_score(labels_test,pred)\n",
    "\n",
    "# function for calculation ratio of true positives\n",
    "# out of true positives and false negatives\n",
    "print 'recall = ', recall_score(labels_test,pred)\n",
    "\n",
    "\n",
    "### dump your classifier, dataset and features_list so\n",
    "### anyone can run/check your results\n",
    "pickle.dump(clf, open(\"my_classifier.pkl\", \"w\") )\n",
    "pickle.dump(data_dict, open(\"my_dataset.pkl\", \"w\") )\n",
    "pickle.dump(features_list, open(\"my_feature_list.pkl\", \"w\") )"
   ]
  },
  {
   "cell_type": "code",
   "execution_count": null,
   "metadata": {
    "collapsed": true
   },
   "outputs": [],
   "source": []
  }
 ],
 "metadata": {
  "kernelspec": {
   "display_name": "Python 2",
   "language": "python",
   "name": "python2"
  },
  "language_info": {
   "codemirror_mode": {
    "name": "ipython",
    "version": 2
   },
   "file_extension": ".py",
   "mimetype": "text/x-python",
   "name": "python",
   "nbconvert_exporter": "python",
   "pygments_lexer": "ipython2",
   "version": "2.7.11"
  }
 },
 "nbformat": 4,
 "nbformat_minor": 0
}
